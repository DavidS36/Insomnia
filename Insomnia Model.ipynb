{
 "cells": [
  {
   "cell_type": "markdown",
   "metadata": {},
   "source": [
    "# Introduction\n",
    "\n",
    "This is part 2 of a two part 'end-of-phase' project with Flatiron School. In the previous notebook I conducted an descriptive and inferential analysis of the dataset that I will be using in this model creation."
   ]
  },
  {
   "cell_type": "markdown",
   "metadata": {},
   "source": [
    "## Table of Contents\n",
    "- [Introduction](#Introduction)\n",
    "- [Recap](#Recap)\n",
    "- [Imports and Cleaning](#Imports-and-Cleaning)\n",
    "- [Data Preprocessing](#Data-Preprocessing)\n",
    "- [Model](#Model)\n",
    "    - [Shotgun Method](#Shotgun-Method)\n",
    "    - [Logistic Regressor](#Logistic-Regressor)\n",
    "    - [Bagging Classifier](#Bagging-Classifier)\n",
    "    - [Extra Trees Classifier](#Extra-Trees-Classifier)\n",
    "- [Model Tuning](#Model-Tuning)\n",
    "- [The Pipeline](#The-Pipeline)\n",
    "- [Final Pipeline](#Final-Pipeline)\n",
    "- [Summery](#Summery)"
   ]
  },
  {
   "cell_type": "markdown",
   "metadata": {},
   "source": [
    "# Recap\n",
    "\n",
    "## Descriptive Analysis\n",
    "In the first notebook, I asked and answered many descriptive analysis questions, those of which included the following\n",
    "* On average, how much sleep does someone with a sleeping disorder recieve compared someone with no sleeping disorder?\n",
    "* On average, what is the quality of sleep that someone with a sleeping disorder recieves compared to those without a sleeping disorder?\n",
    "* What distribution of Males and Females in my dataset are diagnosed with sleeping disorders?\n",
    "* What percentage of my dataset has Insomnia?\n",
    "* Of those with Insomnia, What percentage is male vs female?\n",
    "* What is the distribution of age for patients with insomnia in my dataset?\n",
    "\n",
    "In addition to those questions, I also asked a number of demographic related questions related to those who have insomnia. Demographics such as gender, age, and profession were all asked and answered.\n",
    "\n",
    "After getting an asked and answering all of the questions listed, I felt confident that I was ready to move onto my inferential analysis.\n",
    "\n",
    "In my inferential anaylsis I conducted hypothesis tests on the following statistic which are accompanied by its result.\n"
   ]
  },
  {
   "cell_type": "markdown",
   "metadata": {},
   "source": [
    "## Inferential Analysis"
   ]
  },
  {
   "cell_type": "markdown",
   "metadata": {},
   "source": [
    "### With vs Without Insomnia Two Sample T-Tests\n",
    "\n",
    "These tests were two sampl t-tests in which I grouped my data by patients with insomnia (I) and without insomnia (NI) and found the mean ($\\mu$) for each test variable and tested for a significant difference with a significance level (alpha) of 0.05. \n",
    "\n",
    "Null Hypothesis ($H_0$): $\\mu_{I}$ = $\\mu_{NI}$\n",
    "\n",
    "Alternate Hypothesis ($H_A$): $\\mu_{I}$ $\\neq$ $\\mu_{NI}$"
   ]
  },
  {
   "cell_type": "markdown",
   "metadata": {},
   "source": [
    "#### Sleep Duration\n",
    "\n",
    "In this test, I calculated the means and performed a two sample t-test. In this test, the mean ($\\mu$) refers to the mean sleep duration for each group.\n",
    "\n",
    "Result: **Reject the Null Hypothesis.** Although we observed a significant enough difference in sleep duration to reject the null hypothesis, this does not mean that the reason for the significant difference in sleep duration is due to having insomnia or not having insomnia. We simply observed that the difference exists."
   ]
  },
  {
   "cell_type": "markdown",
   "metadata": {},
   "source": [
    "#### Quality of Sleep\n",
    "\n",
    "In this test, I calculated the means and performed a two sample t-test. In this test, the mean ($\\mu$) refers to the mean quality of sleep for each group.\n",
    "\n",
    "Result: **Reject the Null Hypothesis.** Although we observed a significant enough difference in quality of sleep to reject the null hypothesis, this does not mean that the reason for the significant difference in quality of sleep is due to having insomnia or not having insomnia. We simply observed that the difference exists."
   ]
  },
  {
   "cell_type": "markdown",
   "metadata": {},
   "source": [
    "#### Physical Activity Level\n",
    "\n",
    "In this test, I calculated the means and performed a two sample t-test. In this test, the mean ($\\mu$) refers to the mean physical activity level for each group.\n",
    "\n",
    "Result: **Reject the Null Hypothesis.** Although we observed a significant enough difference in physical activity level to reject the null hypothesis, this does not mean that the reason for the significant difference in physical activity level is due to having insomnia or not having insomnia. We simply observed that the difference exists."
   ]
  },
  {
   "cell_type": "markdown",
   "metadata": {},
   "source": [
    "#### Stress Level\n",
    "\n",
    "In this test, I calculated the means and performed a two sample t-test. In this test, the mean ($\\mu$) refers to the mean stress level for each group.\n",
    "\n",
    "Result: **Reject the Null Hypothesis.** Although we observed a significant enough difference in stress level to reject the null hypothesis, this does not mean that the reason for the significant difference in stress level is due to having insomnia or not having insomnia. We simply observed that the difference exists."
   ]
  },
  {
   "cell_type": "markdown",
   "metadata": {},
   "source": [
    "#### Heart Rate\n",
    "\n",
    "In this test, I calculated the means and performed a two sample t-test. In this test, the mean ($\\mu$) refers to the mean heart rate for each group.\n",
    "\n",
    "Result: **Fail to Reject the Null Hypothesis.** In this test,  we did not observe enough of a difference to differentiate the change in means that would naturally occur from randomness"
   ]
  },
  {
   "cell_type": "markdown",
   "metadata": {},
   "source": [
    "#### Daily Steps\n",
    "\n",
    "In this test, I calculated the means and performed a two sample t-test. In this test, the mean ($\\mu$) refers to the mean daily steps for each group.\n",
    "\n",
    "Result: **Reject the Null Hypothesis.** Although we observed a significant enough difference in daily steps to reject the null hypothesis, this does not mean that the reason for the significant difference in daily steps is due to having insomnia or not having insomnia. We simply observed that the difference exists."
   ]
  },
  {
   "cell_type": "markdown",
   "metadata": {},
   "source": [
    "That would conclude the end of Notebook 1, which brings us to right now!\n",
    "\n",
    "Lets get started!"
   ]
  },
  {
   "cell_type": "markdown",
   "metadata": {},
   "source": [
    "# Imports and Cleaning"
   ]
  },
  {
   "cell_type": "code",
   "execution_count": 65,
   "metadata": {},
   "outputs": [],
   "source": [
    "#Imports\n",
    "import pandas as pd\n",
    "import matplotlib.pyplot as plt\n",
    "import seaborn as sns\n",
    "from sklearn.preprocessing import LabelEncoder\n",
    "from numpy import mean, std\n",
    "# Selection Imports\n",
    "from sklearn.model_selection import cross_val_score, RepeatedStratifiedKFold, train_test_split, RepeatedKFold, GridSearchCV\n",
    "#Classification Models\n",
    "from sklearn.ensemble import RandomForestClassifier, BaggingClassifier, AdaBoostClassifier, StackingClassifier, GradientBoostingClassifier, ExtraTreesClassifier\n",
    "from sklearn.linear_model import LogisticRegression, Ridge, Lasso, ElasticNet\n",
    "from sklearn.neighbors import KNeighborsClassifier\n",
    "from sklearn.svm import SVC\n",
    "from sklearn.tree import DecisionTreeClassifier\n",
    "from xgboost import XGBClassifier\n",
    "from lightgbm import LGBMClassifier\n",
    "from sklearn.preprocessing import StandardScaler, MinMaxScaler\n",
    "#metrics\n",
    "from sklearn.metrics import accuracy_score, precision_score, recall_score, f1_score, roc_auc_score, explained_variance_score, r2_score, mean_squared_error, mean_absolute_error, classification_report, confusion_matrix, make_scorer\n",
    "from sklearn.pipeline import Pipeline\n",
    "from imblearn import over_sampling, under_sampling\n",
    "from sklearn.discriminant_analysis import LinearDiscriminantAnalysis\n",
    "from sklearn.decomposition import PCA\n",
    "from sklearn.compose import ColumnTransformer\n",
    "from imblearn.over_sampling import SMOTE\n",
    "from sklearn.metrics import roc_curve, roc_auc_score, confusion_matrix, ConfusionMatrixDisplay, auc\n",
    "import warnings\n",
    "warnings.filterwarnings(\"ignore\")"
   ]
  },
  {
   "cell_type": "markdown",
   "metadata": {},
   "source": [
    "First thing to do in any data modeling is to prepare the data, so lets start by loading and cleaning the dataset"
   ]
  },
  {
   "cell_type": "code",
   "execution_count": 66,
   "metadata": {},
   "outputs": [],
   "source": [
    "# loading the dataset\n",
    "df = pd.read_csv('sleep_data.csv')"
   ]
  },
  {
   "cell_type": "code",
   "execution_count": 67,
   "metadata": {},
   "outputs": [
    {
     "data": {
      "text/html": [
       "<div>\n",
       "<style scoped>\n",
       "    .dataframe tbody tr th:only-of-type {\n",
       "        vertical-align: middle;\n",
       "    }\n",
       "\n",
       "    .dataframe tbody tr th {\n",
       "        vertical-align: top;\n",
       "    }\n",
       "\n",
       "    .dataframe thead th {\n",
       "        text-align: right;\n",
       "    }\n",
       "</style>\n",
       "<table border=\"1\" class=\"dataframe\">\n",
       "  <thead>\n",
       "    <tr style=\"text-align: right;\">\n",
       "      <th></th>\n",
       "      <th>Person ID</th>\n",
       "      <th>Gender</th>\n",
       "      <th>Age</th>\n",
       "      <th>Occupation</th>\n",
       "      <th>Sleep Duration</th>\n",
       "      <th>Quality of Sleep</th>\n",
       "      <th>Physical Activity Level</th>\n",
       "      <th>Stress Level</th>\n",
       "      <th>BMI Category</th>\n",
       "      <th>Blood Pressure</th>\n",
       "      <th>Heart Rate</th>\n",
       "      <th>Daily Steps</th>\n",
       "      <th>Sleep Disorder</th>\n",
       "    </tr>\n",
       "  </thead>\n",
       "  <tbody>\n",
       "    <tr>\n",
       "      <th>0</th>\n",
       "      <td>1</td>\n",
       "      <td>Male</td>\n",
       "      <td>27</td>\n",
       "      <td>Software Engineer</td>\n",
       "      <td>6.1</td>\n",
       "      <td>6</td>\n",
       "      <td>42</td>\n",
       "      <td>6</td>\n",
       "      <td>Overweight</td>\n",
       "      <td>126/83</td>\n",
       "      <td>77</td>\n",
       "      <td>4200</td>\n",
       "      <td>NaN</td>\n",
       "    </tr>\n",
       "    <tr>\n",
       "      <th>1</th>\n",
       "      <td>2</td>\n",
       "      <td>Male</td>\n",
       "      <td>28</td>\n",
       "      <td>Doctor</td>\n",
       "      <td>6.2</td>\n",
       "      <td>6</td>\n",
       "      <td>60</td>\n",
       "      <td>8</td>\n",
       "      <td>Normal</td>\n",
       "      <td>125/80</td>\n",
       "      <td>75</td>\n",
       "      <td>10000</td>\n",
       "      <td>NaN</td>\n",
       "    </tr>\n",
       "    <tr>\n",
       "      <th>2</th>\n",
       "      <td>3</td>\n",
       "      <td>Male</td>\n",
       "      <td>28</td>\n",
       "      <td>Doctor</td>\n",
       "      <td>6.2</td>\n",
       "      <td>6</td>\n",
       "      <td>60</td>\n",
       "      <td>8</td>\n",
       "      <td>Normal</td>\n",
       "      <td>125/80</td>\n",
       "      <td>75</td>\n",
       "      <td>10000</td>\n",
       "      <td>NaN</td>\n",
       "    </tr>\n",
       "    <tr>\n",
       "      <th>3</th>\n",
       "      <td>4</td>\n",
       "      <td>Male</td>\n",
       "      <td>28</td>\n",
       "      <td>Sales Representative</td>\n",
       "      <td>5.9</td>\n",
       "      <td>4</td>\n",
       "      <td>30</td>\n",
       "      <td>8</td>\n",
       "      <td>Obese</td>\n",
       "      <td>140/90</td>\n",
       "      <td>85</td>\n",
       "      <td>3000</td>\n",
       "      <td>Sleep Apnea</td>\n",
       "    </tr>\n",
       "    <tr>\n",
       "      <th>4</th>\n",
       "      <td>5</td>\n",
       "      <td>Male</td>\n",
       "      <td>28</td>\n",
       "      <td>Sales Representative</td>\n",
       "      <td>5.9</td>\n",
       "      <td>4</td>\n",
       "      <td>30</td>\n",
       "      <td>8</td>\n",
       "      <td>Obese</td>\n",
       "      <td>140/90</td>\n",
       "      <td>85</td>\n",
       "      <td>3000</td>\n",
       "      <td>Sleep Apnea</td>\n",
       "    </tr>\n",
       "  </tbody>\n",
       "</table>\n",
       "</div>"
      ],
      "text/plain": [
       "   Person ID Gender  Age            Occupation  Sleep Duration  \\\n",
       "0          1   Male   27     Software Engineer             6.1   \n",
       "1          2   Male   28                Doctor             6.2   \n",
       "2          3   Male   28                Doctor             6.2   \n",
       "3          4   Male   28  Sales Representative             5.9   \n",
       "4          5   Male   28  Sales Representative             5.9   \n",
       "\n",
       "   Quality of Sleep  Physical Activity Level  Stress Level BMI Category  \\\n",
       "0                 6                       42             6   Overweight   \n",
       "1                 6                       60             8       Normal   \n",
       "2                 6                       60             8       Normal   \n",
       "3                 4                       30             8        Obese   \n",
       "4                 4                       30             8        Obese   \n",
       "\n",
       "  Blood Pressure  Heart Rate  Daily Steps Sleep Disorder  \n",
       "0         126/83          77         4200            NaN  \n",
       "1         125/80          75        10000            NaN  \n",
       "2         125/80          75        10000            NaN  \n",
       "3         140/90          85         3000    Sleep Apnea  \n",
       "4         140/90          85         3000    Sleep Apnea  "
      ]
     },
     "execution_count": 67,
     "metadata": {},
     "output_type": "execute_result"
    }
   ],
   "source": [
    "df.head()"
   ]
  },
  {
   "cell_type": "markdown",
   "metadata": {},
   "source": [
    "I noticed that systolic and diastolic blood pressure were seperated by a slash, so I decided to divide those into two seperate columns"
   ]
  },
  {
   "cell_type": "code",
   "execution_count": 68,
   "metadata": {},
   "outputs": [],
   "source": [
    "df[['Systolic', 'Diastolic']] = df['Blood Pressure'].str.split('/', expand=True)\n",
    "df['Systolic'] = df['Systolic'].astype(int)\n",
    "df['Diastolic'] = df['Diastolic'].astype(int)"
   ]
  },
  {
   "cell_type": "markdown",
   "metadata": {},
   "source": [
    "Next I saw that I had a bunch of null values in the Sleep Disorder column, so i cleaned that up as well"
   ]
  },
  {
   "cell_type": "code",
   "execution_count": 69,
   "metadata": {},
   "outputs": [],
   "source": [
    "df['Sleep Disorder'] = df['Sleep Disorder'].fillna('No')"
   ]
  },
  {
   "cell_type": "markdown",
   "metadata": {},
   "source": [
    "I wanted to drop these columns as they wouldn't be necessary for any modelling that i perform"
   ]
  },
  {
   "cell_type": "code",
   "execution_count": 70,
   "metadata": {},
   "outputs": [],
   "source": [
    "columns=['Person ID', 'Blood Pressure', 'Occupation']\n",
    "df = df.drop(columns=columns)"
   ]
  },
  {
   "cell_type": "markdown",
   "metadata": {},
   "source": [
    "# Data Preprocessing"
   ]
  },
  {
   "cell_type": "markdown",
   "metadata": {},
   "source": [
    "First preprocessing technique I wanted to use was label encoding for my categorical string based columns such as Gender and BMI"
   ]
  },
  {
   "cell_type": "code",
   "execution_count": 71,
   "metadata": {},
   "outputs": [],
   "source": [
    "label_encoder = LabelEncoder()\n",
    "for column in ['Gender', 'BMI Category']:\n",
    "    df[column] = label_encoder.fit_transform(df[column])"
   ]
  },
  {
   "cell_type": "markdown",
   "metadata": {},
   "source": [
    "Next was to create the binary target column to use within modelling"
   ]
  },
  {
   "cell_type": "code",
   "execution_count": 72,
   "metadata": {},
   "outputs": [
    {
     "data": {
      "text/html": [
       "<div>\n",
       "<style scoped>\n",
       "    .dataframe tbody tr th:only-of-type {\n",
       "        vertical-align: middle;\n",
       "    }\n",
       "\n",
       "    .dataframe tbody tr th {\n",
       "        vertical-align: top;\n",
       "    }\n",
       "\n",
       "    .dataframe thead th {\n",
       "        text-align: right;\n",
       "    }\n",
       "</style>\n",
       "<table border=\"1\" class=\"dataframe\">\n",
       "  <thead>\n",
       "    <tr style=\"text-align: right;\">\n",
       "      <th></th>\n",
       "      <th>Gender</th>\n",
       "      <th>Age</th>\n",
       "      <th>Sleep Duration</th>\n",
       "      <th>Quality of Sleep</th>\n",
       "      <th>Physical Activity Level</th>\n",
       "      <th>Stress Level</th>\n",
       "      <th>BMI Category</th>\n",
       "      <th>Heart Rate</th>\n",
       "      <th>Daily Steps</th>\n",
       "      <th>Sleep Disorder</th>\n",
       "      <th>Systolic</th>\n",
       "      <th>Diastolic</th>\n",
       "      <th>insomnia_binary</th>\n",
       "    </tr>\n",
       "  </thead>\n",
       "  <tbody>\n",
       "    <tr>\n",
       "      <th>0</th>\n",
       "      <td>1</td>\n",
       "      <td>27</td>\n",
       "      <td>6.1</td>\n",
       "      <td>6</td>\n",
       "      <td>42</td>\n",
       "      <td>6</td>\n",
       "      <td>3</td>\n",
       "      <td>77</td>\n",
       "      <td>4200</td>\n",
       "      <td>No</td>\n",
       "      <td>126</td>\n",
       "      <td>83</td>\n",
       "      <td>0</td>\n",
       "    </tr>\n",
       "    <tr>\n",
       "      <th>1</th>\n",
       "      <td>1</td>\n",
       "      <td>28</td>\n",
       "      <td>6.2</td>\n",
       "      <td>6</td>\n",
       "      <td>60</td>\n",
       "      <td>8</td>\n",
       "      <td>0</td>\n",
       "      <td>75</td>\n",
       "      <td>10000</td>\n",
       "      <td>No</td>\n",
       "      <td>125</td>\n",
       "      <td>80</td>\n",
       "      <td>0</td>\n",
       "    </tr>\n",
       "    <tr>\n",
       "      <th>2</th>\n",
       "      <td>1</td>\n",
       "      <td>28</td>\n",
       "      <td>6.2</td>\n",
       "      <td>6</td>\n",
       "      <td>60</td>\n",
       "      <td>8</td>\n",
       "      <td>0</td>\n",
       "      <td>75</td>\n",
       "      <td>10000</td>\n",
       "      <td>No</td>\n",
       "      <td>125</td>\n",
       "      <td>80</td>\n",
       "      <td>0</td>\n",
       "    </tr>\n",
       "    <tr>\n",
       "      <th>3</th>\n",
       "      <td>1</td>\n",
       "      <td>28</td>\n",
       "      <td>5.9</td>\n",
       "      <td>4</td>\n",
       "      <td>30</td>\n",
       "      <td>8</td>\n",
       "      <td>2</td>\n",
       "      <td>85</td>\n",
       "      <td>3000</td>\n",
       "      <td>Sleep Apnea</td>\n",
       "      <td>140</td>\n",
       "      <td>90</td>\n",
       "      <td>0</td>\n",
       "    </tr>\n",
       "    <tr>\n",
       "      <th>4</th>\n",
       "      <td>1</td>\n",
       "      <td>28</td>\n",
       "      <td>5.9</td>\n",
       "      <td>4</td>\n",
       "      <td>30</td>\n",
       "      <td>8</td>\n",
       "      <td>2</td>\n",
       "      <td>85</td>\n",
       "      <td>3000</td>\n",
       "      <td>Sleep Apnea</td>\n",
       "      <td>140</td>\n",
       "      <td>90</td>\n",
       "      <td>0</td>\n",
       "    </tr>\n",
       "  </tbody>\n",
       "</table>\n",
       "</div>"
      ],
      "text/plain": [
       "   Gender  Age  Sleep Duration  Quality of Sleep  Physical Activity Level  \\\n",
       "0       1   27             6.1                 6                       42   \n",
       "1       1   28             6.2                 6                       60   \n",
       "2       1   28             6.2                 6                       60   \n",
       "3       1   28             5.9                 4                       30   \n",
       "4       1   28             5.9                 4                       30   \n",
       "\n",
       "   Stress Level  BMI Category  Heart Rate  Daily Steps Sleep Disorder  \\\n",
       "0             6             3          77         4200             No   \n",
       "1             8             0          75        10000             No   \n",
       "2             8             0          75        10000             No   \n",
       "3             8             2          85         3000    Sleep Apnea   \n",
       "4             8             2          85         3000    Sleep Apnea   \n",
       "\n",
       "   Systolic  Diastolic  insomnia_binary  \n",
       "0       126         83                0  \n",
       "1       125         80                0  \n",
       "2       125         80                0  \n",
       "3       140         90                0  \n",
       "4       140         90                0  "
      ]
     },
     "execution_count": 72,
     "metadata": {},
     "output_type": "execute_result"
    }
   ],
   "source": [
    "df['insomnia_binary'] = df['Sleep Disorder'].apply(lambda x: 1 if x == 'Insomnia' else 0)\n",
    "df.head()"
   ]
  },
  {
   "cell_type": "markdown",
   "metadata": {},
   "source": [
    "After creating that column, we no longer have a use for the 'Sleep Disorder' column"
   ]
  },
  {
   "cell_type": "code",
   "execution_count": 73,
   "metadata": {},
   "outputs": [],
   "source": [
    "df = df.drop(columns='Sleep Disorder')"
   ]
  },
  {
   "cell_type": "markdown",
   "metadata": {},
   "source": [
    "# Model"
   ]
  },
  {
   "cell_type": "markdown",
   "metadata": {},
   "source": [
    "## Shotgun Method"
   ]
  },
  {
   "cell_type": "markdown",
   "metadata": {},
   "source": [
    "My first step of the model creation is the 'Shotgun method.' Simply put, I tested 8 different models to see which is the best for this data and then after that go into hyperparameter tuning and tweaking specific models of my choice"
   ]
  },
  {
   "cell_type": "code",
   "execution_count": 74,
   "metadata": {},
   "outputs": [],
   "source": [
    "features = df.drop(columns='insomnia_binary')"
   ]
  },
  {
   "cell_type": "code",
   "execution_count": 75,
   "metadata": {},
   "outputs": [],
   "source": [
    "X = features\n",
    "y = df['insomnia_binary']"
   ]
  },
  {
   "cell_type": "code",
   "execution_count": 76,
   "metadata": {},
   "outputs": [],
   "source": [
    "X_train, X_test, y_train, y_test = train_test_split(X,y, test_size=0.3, random_state=36)"
   ]
  },
  {
   "cell_type": "code",
   "execution_count": 77,
   "metadata": {},
   "outputs": [],
   "source": [
    "recall_scorer = make_scorer(recall_score, pos_label=1)"
   ]
  },
  {
   "cell_type": "code",
   "execution_count": 78,
   "metadata": {},
   "outputs": [],
   "source": [
    "def train_and_evaluate_model(models, X_train=X_train, X_test=X_test, y_train=y_train, y_test=y_test):\n",
    "    metrics = {\n",
    "        'Accuracy': accuracy_score,\n",
    "        'Precision': precision_score,\n",
    "        'Recall': recall_score,\n",
    "        'F1 Score': f1_score,\n",
    "        'ROC AUC': roc_auc_score\n",
    "    }\n",
    "\n",
    "    results = {}\n",
    "\n",
    "    for model in models:\n",
    "        model_scores = {}\n",
    "        model.fit(X_train, y_train)\n",
    "        y_pred = model.predict(X_test)\n",
    "\n",
    "        # Compute each metric\n",
    "        for metric_name, metric_function in metrics.items():\n",
    "            if metric_name == 'ROC AUC':\n",
    "                # For binary classification, use the predict_proba method\n",
    "                if hasattr(model, \"predict_proba\"):\n",
    "                    y_pred_prob = model.predict_proba(X_test)[:, 1]\n",
    "                    score = metric_function(y_test, y_pred_prob)\n",
    "                else:\n",
    "                    score = \"N/A\"  # In case model does not support predict_proba\n",
    "            else:\n",
    "                # Precision, Recall, and F1 Score use 'binary' average for binary classification\n",
    "                score = metric_function(y_test, y_pred)\n",
    "\n",
    "            model_scores[metric_name] = score\n",
    "\n",
    "        results[str(model)] = model_scores\n",
    "\n",
    "    return results"
   ]
  },
  {
   "cell_type": "code",
   "execution_count": 79,
   "metadata": {},
   "outputs": [],
   "source": [
    "models = [\n",
    "    LogisticRegression(),               # Linear model\n",
    "    RandomForestClassifier(),           # Ensemble of decision trees\n",
    "    GradientBoostingClassifier(),       # Boosting method\n",
    "    AdaBoostClassifier(),               # Boosting method\n",
    "    BaggingClassifier(),                # Bagging method\n",
    "    KNeighborsClassifier(),             # k-NN classifier\n",
    "    DecisionTreeClassifier(),           # Simple decision tree\n",
    "    ExtraTreesClassifier()\n",
    "    ]\n",
    "model_metrics = train_and_evaluate_model(models=models)"
   ]
  },
  {
   "cell_type": "code",
   "execution_count": 80,
   "metadata": {},
   "outputs": [
    {
     "data": {
      "image/png": "[encoded data removed]",
      "text/plain": [
       "<Figure size 2000x2000 with 5 Axes>"
      ]
     },
     "metadata": {},
     "output_type": "display_data"
    }
   ],
   "source": [
    "# Prepare data for plotting\n",
    "metrics = ['Accuracy', 'Precision', 'Recall', 'F1 Score', 'ROC AUC']\n",
    "metric_results = {metric: [] for metric in metrics}\n",
    "\n",
    "# Collect data for each metric\n",
    "for model, scores in model_metrics.items():\n",
    "    for metric in metrics:\n",
    "        metric_results[metric].append(scores.get(metric, 0))\n",
    "\n",
    "# Create subplots\n",
    "fig, axes = plt.subplots(len(metrics), 1, figsize=(20, 20), sharey=True)\n",
    "\n",
    "# Plot each metric\n",
    "for i, metric in enumerate(metrics):\n",
    "    ax = axes[i]\n",
    "    sns.barplot(x=list(model_metrics.keys()), y=metric_results[metric], palette=\"Blues_r\", ax=ax)\n",
    "\n",
    "    # Add labels to the bars\n",
    "    for j, value in enumerate(metric_results[metric]):\n",
    "        ax.text(j, value + 0.01, f'{value:.2f}', ha='center', va='bottom')\n",
    "\n",
    "    # Set labels and title\n",
    "    ax.set_xlabel('Model', fontsize=12)\n",
    "    ax.set_ylim([0,1])\n",
    "    ax.set_title(metric, fontsize=14, weight='bold')\n",
    "    ax.set_xticklabels(ax.get_xticklabels())\n",
    "\n",
    "# Set common ylabel\n",
    "axes[0].set_ylabel('Score', fontsize=12)\n",
    "\n",
    "# Adjust layout\n",
    "plt.tight_layout()\n",
    "\n",
    "# Show plot\n",
    "# plt.savefig('savefig/ClassificationModels.png')\n",
    "plt.show()\n"
   ]
  },
  {
   "cell_type": "markdown",
   "metadata": {},
   "source": [
    "After this shotgun method I decided to further investigate 3 models: Logistic Regressor, Bagging Classifier, and Extra Trees Classifier. First we are gonna start with the Logistic Regressor"
   ]
  },
  {
   "cell_type": "markdown",
   "metadata": {},
   "source": [
    "## Logistic Regressor"
   ]
  },
  {
   "cell_type": "markdown",
   "metadata": {},
   "source": [
    "In these deep dives into the 3 models, some more techniques were used to get better results from the models. Those techniques include scaling, SMOTE, and hyperparameter tuning."
   ]
  },
  {
   "cell_type": "code",
   "execution_count": 81,
   "metadata": {},
   "outputs": [
    {
     "data": {
      "text/html": [
       "<div>\n",
       "<style scoped>\n",
       "    .dataframe tbody tr th:only-of-type {\n",
       "        vertical-align: middle;\n",
       "    }\n",
       "\n",
       "    .dataframe tbody tr th {\n",
       "        vertical-align: top;\n",
       "    }\n",
       "\n",
       "    .dataframe thead th {\n",
       "        text-align: right;\n",
       "    }\n",
       "</style>\n",
       "<table border=\"1\" class=\"dataframe\">\n",
       "  <thead>\n",
       "    <tr style=\"text-align: right;\">\n",
       "      <th></th>\n",
       "      <th>Age</th>\n",
       "      <th>Sleep Duration</th>\n",
       "      <th>Quality of Sleep</th>\n",
       "      <th>Physical Activity Level</th>\n",
       "      <th>Stress Level</th>\n",
       "      <th>Heart Rate</th>\n",
       "      <th>Daily Steps</th>\n",
       "      <th>Systolic</th>\n",
       "      <th>Diastolic</th>\n",
       "      <th>Gender</th>\n",
       "      <th>BMI Category</th>\n",
       "      <th>insomnia_binary</th>\n",
       "    </tr>\n",
       "  </thead>\n",
       "  <tbody>\n",
       "    <tr>\n",
       "      <th>0</th>\n",
       "      <td>-1.753096</td>\n",
       "      <td>-1.298887</td>\n",
       "      <td>-1.098280</td>\n",
       "      <td>-0.825418</td>\n",
       "      <td>0.347021</td>\n",
       "      <td>1.654719</td>\n",
       "      <td>-1.619584</td>\n",
       "      <td>-0.330002</td>\n",
       "      <td>-0.268102</td>\n",
       "      <td>1</td>\n",
       "      <td>3</td>\n",
       "      <td>0</td>\n",
       "    </tr>\n",
       "    <tr>\n",
       "      <th>1</th>\n",
       "      <td>-1.637643</td>\n",
       "      <td>-1.173036</td>\n",
       "      <td>-1.098280</td>\n",
       "      <td>0.039844</td>\n",
       "      <td>1.475592</td>\n",
       "      <td>1.170474</td>\n",
       "      <td>1.970077</td>\n",
       "      <td>-0.459239</td>\n",
       "      <td>-0.755640</td>\n",
       "      <td>1</td>\n",
       "      <td>0</td>\n",
       "      <td>0</td>\n",
       "    </tr>\n",
       "    <tr>\n",
       "      <th>2</th>\n",
       "      <td>-1.637643</td>\n",
       "      <td>-1.173036</td>\n",
       "      <td>-1.098280</td>\n",
       "      <td>0.039844</td>\n",
       "      <td>1.475592</td>\n",
       "      <td>1.170474</td>\n",
       "      <td>1.970077</td>\n",
       "      <td>-0.459239</td>\n",
       "      <td>-0.755640</td>\n",
       "      <td>1</td>\n",
       "      <td>0</td>\n",
       "      <td>0</td>\n",
       "    </tr>\n",
       "    <tr>\n",
       "      <th>3</th>\n",
       "      <td>-1.637643</td>\n",
       "      <td>-1.550588</td>\n",
       "      <td>-2.771424</td>\n",
       "      <td>-1.402260</td>\n",
       "      <td>1.475592</td>\n",
       "      <td>3.591698</td>\n",
       "      <td>-2.362273</td>\n",
       "      <td>1.479309</td>\n",
       "      <td>0.869486</td>\n",
       "      <td>1</td>\n",
       "      <td>2</td>\n",
       "      <td>0</td>\n",
       "    </tr>\n",
       "    <tr>\n",
       "      <th>4</th>\n",
       "      <td>-1.637643</td>\n",
       "      <td>-1.550588</td>\n",
       "      <td>-2.771424</td>\n",
       "      <td>-1.402260</td>\n",
       "      <td>1.475592</td>\n",
       "      <td>3.591698</td>\n",
       "      <td>-2.362273</td>\n",
       "      <td>1.479309</td>\n",
       "      <td>0.869486</td>\n",
       "      <td>1</td>\n",
       "      <td>2</td>\n",
       "      <td>0</td>\n",
       "    </tr>\n",
       "  </tbody>\n",
       "</table>\n",
       "</div>"
      ],
      "text/plain": [
       "        Age  Sleep Duration  Quality of Sleep  Physical Activity Level  \\\n",
       "0 -1.753096       -1.298887         -1.098280                -0.825418   \n",
       "1 -1.637643       -1.173036         -1.098280                 0.039844   \n",
       "2 -1.637643       -1.173036         -1.098280                 0.039844   \n",
       "3 -1.637643       -1.550588         -2.771424                -1.402260   \n",
       "4 -1.637643       -1.550588         -2.771424                -1.402260   \n",
       "\n",
       "   Stress Level  Heart Rate  Daily Steps  Systolic  Diastolic  Gender  \\\n",
       "0      0.347021    1.654719    -1.619584 -0.330002  -0.268102       1   \n",
       "1      1.475592    1.170474     1.970077 -0.459239  -0.755640       1   \n",
       "2      1.475592    1.170474     1.970077 -0.459239  -0.755640       1   \n",
       "3      1.475592    3.591698    -2.362273  1.479309   0.869486       1   \n",
       "4      1.475592    3.591698    -2.362273  1.479309   0.869486       1   \n",
       "\n",
       "   BMI Category  insomnia_binary  \n",
       "0             3                0  \n",
       "1             0                0  \n",
       "2             0                0  \n",
       "3             2                0  \n",
       "4             2                0  "
      ]
     },
     "execution_count": 81,
     "metadata": {},
     "output_type": "execute_result"
    }
   ],
   "source": [
    "# Select only the numeric features you want to scale\n",
    "numeric_features = ['Age', 'Sleep Duration', 'Quality of Sleep', 'Physical Activity Level','Stress Level', 'Heart Rate', 'Daily Steps', 'Systolic', 'Diastolic']\n",
    "\n",
    "# Initialize the scaler\n",
    "scaler = StandardScaler()\n",
    "\n",
    "# Fit and transform only the numeric features\n",
    "df_scaled = pd.DataFrame(scaler.fit_transform(df[numeric_features]), columns=numeric_features)\n",
    "\n",
    "# If you want to keep the non-numeric features in the DataFrame\n",
    "df_scaled = pd.concat([df_scaled, df.drop(columns=numeric_features)], axis=1)\n",
    "\n",
    "# Display the scaled data\n",
    "df_scaled.head()\n"
   ]
  },
  {
   "cell_type": "code",
   "execution_count": 82,
   "metadata": {},
   "outputs": [],
   "source": [
    "features = df_scaled.drop(columns='insomnia_binary')\n",
    "X_scaled = features\n",
    "y_scaled = df_scaled['insomnia_binary']"
   ]
  },
  {
   "cell_type": "code",
   "execution_count": 83,
   "metadata": {},
   "outputs": [],
   "source": [
    "oversample = over_sampling.SMOTE()\n",
    "X_scaled, y_scaled = oversample.fit_resample(X_scaled, y_scaled)"
   ]
  },
  {
   "cell_type": "code",
   "execution_count": 84,
   "metadata": {},
   "outputs": [],
   "source": [
    "X_train, X_test, y_train, y_test = train_test_split(X_scaled,y_scaled, test_size=0.3, random_state=36)\n",
    "\n",
    "cv = RepeatedKFold(n_splits=10, n_repeats=3, random_state=36)"
   ]
  },
  {
   "cell_type": "markdown",
   "metadata": {},
   "source": [
    "First we started with a baseline to compare the hyperparameters with"
   ]
  },
  {
   "cell_type": "code",
   "execution_count": 85,
   "metadata": {},
   "outputs": [
    {
     "name": "stdout",
     "output_type": "stream",
     "text": [
      "Classification Report:\n",
      "              precision    recall  f1-score   support\n",
      "\n",
      "           0       0.91      0.92      0.91        98\n",
      "           1       0.90      0.89      0.89        81\n",
      "\n",
      "    accuracy                           0.91       179\n",
      "   macro avg       0.90      0.90      0.90       179\n",
      "weighted avg       0.90      0.91      0.90       179\n",
      "\n",
      "Confusion Matrix:\n",
      "[[90  8]\n",
      " [ 9 72]]\n"
     ]
    }
   ],
   "source": [
    "# Train the model\n",
    "model = LogisticRegression(random_state=36)\n",
    "model.fit(X_train, y_train)\n",
    "\n",
    "# Make predictions\n",
    "y_pred = model.predict(X_test)\n",
    "\n",
    "# Generate classification report\n",
    "report = classification_report(y_test, y_pred)\n",
    "print(\"Classification Report:\")\n",
    "print(report)\n",
    "\n",
    "# Generate confusion matrix\n",
    "cm = confusion_matrix(y_test, y_pred)\n",
    "print(\"Confusion Matrix:\")\n",
    "print(cm)"
   ]
  },
  {
   "cell_type": "code",
   "execution_count": 86,
   "metadata": {},
   "outputs": [],
   "source": [
    "grid = dict()\n",
    "\n",
    "grid[\"solver\"] = [\"newton-cg\", \"lbfgs\", \"liblinear\"]\n",
    "grid[\"penalty\"] = [\"l2\"]\n",
    "grid[\"C\"] = [1e-5, 1e-4, 1e-3, 1e-2, 1e-1, 1, 10, 100]"
   ]
  },
  {
   "cell_type": "markdown",
   "metadata": {},
   "source": [
    "The first gridsearch is done with the hope of getting the highest recall possible. I had to slightly adjust this formula as calling 'recall' in the scoring variable will give the recall for the negative variable. "
   ]
  },
  {
   "cell_type": "code",
   "execution_count": 87,
   "metadata": {},
   "outputs": [
    {
     "name": "stdout",
     "output_type": "stream",
     "text": [
      "> BEST SCORE: \t\t1.0\n",
      "> OPTIMAL PARAMETERS: \t{'C': 1e-05, 'penalty': 'l2', 'solver': 'newton-cg'}\n",
      "\n",
      "Classification Report:\n",
      "              precision    recall  f1-score   support\n",
      "\n",
      "           0       0.00      0.00      0.00        98\n",
      "           1       0.45      1.00      0.62        81\n",
      "\n",
      "    accuracy                           0.45       179\n",
      "   macro avg       0.23      0.50      0.31       179\n",
      "weighted avg       0.20      0.45      0.28       179\n",
      "\n",
      "Confusion Matrix:\n",
      "[[ 0 98]\n",
      " [ 0 81]]\n"
     ]
    }
   ],
   "source": [
    "search = GridSearchCV(estimator=LogisticRegression(random_state=36),\n",
    "                      param_grid=grid,\n",
    "                      scoring=recall_scorer,\n",
    "                      n_jobs=-1,\n",
    "                      cv=cv)\n",
    "\n",
    "result = search.fit(X_train, y_train)\n",
    "\n",
    "print(\"> BEST SCORE: \\t\\t{}\".format(result.best_score_))\n",
    "print(\"> OPTIMAL PARAMETERS: \\t{}\".format(result.best_params_))\n",
    "\n",
    "best_model = result.best_estimator_\n",
    "y_pred = best_model.predict(X_test)\n",
    "\n",
    "# Generate the classification report\n",
    "print(\"\\nClassification Report:\")\n",
    "print(classification_report(y_test, y_pred))\n",
    "\n",
    "# Generate the confusion matrix\n",
    "print(\"Confusion Matrix:\")\n",
    "print(confusion_matrix(y_test, y_pred))"
   ]
  },
  {
   "cell_type": "markdown",
   "metadata": {},
   "source": [
    "After getting the ideal recall parameters, I wanted to find the ideal parameters for accuracy, which is seen below"
   ]
  },
  {
   "cell_type": "code",
   "execution_count": 88,
   "metadata": {},
   "outputs": [
    {
     "name": "stdout",
     "output_type": "stream",
     "text": [
      "> BEST SCORE: \t\t0.8771389856755711\n",
      "> OPTIMAL PARAMETERS: \t{'C': 100, 'penalty': 'l2', 'solver': 'newton-cg'}\n",
      "\n",
      "Classification Report:\n",
      "              precision    recall  f1-score   support\n",
      "\n",
      "           0       0.90      0.91      0.90        98\n",
      "           1       0.89      0.88      0.88        81\n",
      "\n",
      "    accuracy                           0.89       179\n",
      "   macro avg       0.89      0.89      0.89       179\n",
      "weighted avg       0.89      0.89      0.89       179\n",
      "\n",
      "Confusion Matrix:\n",
      "[[89  9]\n",
      " [10 71]]\n"
     ]
    }
   ],
   "source": [
    "search = GridSearchCV(estimator=LogisticRegression(random_state=36),\n",
    "                      param_grid=grid,\n",
    "                      scoring='accuracy',\n",
    "                      n_jobs=-1,\n",
    "                      cv=cv)\n",
    "\n",
    "result = search.fit(X_train, y_train)\n",
    "\n",
    "print(\"> BEST SCORE: \\t\\t{}\".format(result.best_score_))\n",
    "print(\"> OPTIMAL PARAMETERS: \\t{}\".format(result.best_params_))\n",
    "\n",
    "best_model = result.best_estimator_\n",
    "y_pred = best_model.predict(X_test)\n",
    "\n",
    "# Generate the classification report\n",
    "print(\"\\nClassification Report:\")\n",
    "print(classification_report(y_test, y_pred))\n",
    "\n",
    "# Generate the confusion matrix\n",
    "print(\"Confusion Matrix:\")\n",
    "print(confusion_matrix(y_test, y_pred))"
   ]
  },
  {
   "cell_type": "markdown",
   "metadata": {},
   "source": [
    "And lastly, the ideal parameters for 'precision' "
   ]
  },
  {
   "cell_type": "code",
   "execution_count": 89,
   "metadata": {},
   "outputs": [
    {
     "name": "stdout",
     "output_type": "stream",
     "text": [
      "> BEST SCORE: \t\t0.8892471045873143\n",
      "> OPTIMAL PARAMETERS: \t{'C': 100, 'penalty': 'l2', 'solver': 'newton-cg'}\n",
      "\n",
      "Classification Report:\n",
      "              precision    recall  f1-score   support\n",
      "\n",
      "           0       0.90      0.91      0.90        98\n",
      "           1       0.89      0.88      0.88        81\n",
      "\n",
      "    accuracy                           0.89       179\n",
      "   macro avg       0.89      0.89      0.89       179\n",
      "weighted avg       0.89      0.89      0.89       179\n",
      "\n",
      "Confusion Matrix:\n",
      "[[89  9]\n",
      " [10 71]]\n"
     ]
    }
   ],
   "source": [
    "search = GridSearchCV(estimator=LogisticRegression(random_state=36),\n",
    "                      param_grid=grid,\n",
    "                      scoring='precision',\n",
    "                      n_jobs=-1,\n",
    "                      cv=cv)\n",
    "\n",
    "result = search.fit(X_train, y_train)\n",
    "\n",
    "print(\"> BEST SCORE: \\t\\t{}\".format(result.best_score_))\n",
    "print(\"> OPTIMAL PARAMETERS: \\t{}\".format(result.best_params_))\n",
    "\n",
    "best_model = result.best_estimator_\n",
    "y_pred = best_model.predict(X_test)\n",
    "\n",
    "# Generate the classification report\n",
    "print(\"\\nClassification Report:\")\n",
    "print(classification_report(y_test, y_pred))\n",
    "\n",
    "# Generate the confusion matrix\n",
    "print(\"Confusion Matrix:\")\n",
    "print(confusion_matrix(y_test, y_pred))"
   ]
  },
  {
   "cell_type": "markdown",
   "metadata": {},
   "source": [
    "## Bagging Classifier"
   ]
  },
  {
   "cell_type": "markdown",
   "metadata": {},
   "source": [
    "I then repeated the process for the Bagging Classifier which can be seen in the following steps, the only thing that was changed was the hyperparameter grid used for the GridSearch"
   ]
  },
  {
   "cell_type": "code",
   "execution_count": 90,
   "metadata": {},
   "outputs": [
    {
     "data": {
      "text/html": [
       "<div>\n",
       "<style scoped>\n",
       "    .dataframe tbody tr th:only-of-type {\n",
       "        vertical-align: middle;\n",
       "    }\n",
       "\n",
       "    .dataframe tbody tr th {\n",
       "        vertical-align: top;\n",
       "    }\n",
       "\n",
       "    .dataframe thead th {\n",
       "        text-align: right;\n",
       "    }\n",
       "</style>\n",
       "<table border=\"1\" class=\"dataframe\">\n",
       "  <thead>\n",
       "    <tr style=\"text-align: right;\">\n",
       "      <th></th>\n",
       "      <th>Age</th>\n",
       "      <th>Sleep Duration</th>\n",
       "      <th>Quality of Sleep</th>\n",
       "      <th>Physical Activity Level</th>\n",
       "      <th>Stress Level</th>\n",
       "      <th>Heart Rate</th>\n",
       "      <th>Daily Steps</th>\n",
       "      <th>Systolic</th>\n",
       "      <th>Diastolic</th>\n",
       "      <th>Gender</th>\n",
       "      <th>BMI Category</th>\n",
       "      <th>insomnia_binary</th>\n",
       "    </tr>\n",
       "  </thead>\n",
       "  <tbody>\n",
       "    <tr>\n",
       "      <th>0</th>\n",
       "      <td>-1.753096</td>\n",
       "      <td>-1.298887</td>\n",
       "      <td>-1.098280</td>\n",
       "      <td>-0.825418</td>\n",
       "      <td>0.347021</td>\n",
       "      <td>1.654719</td>\n",
       "      <td>-1.619584</td>\n",
       "      <td>-0.330002</td>\n",
       "      <td>-0.268102</td>\n",
       "      <td>1</td>\n",
       "      <td>3</td>\n",
       "      <td>0</td>\n",
       "    </tr>\n",
       "    <tr>\n",
       "      <th>1</th>\n",
       "      <td>-1.637643</td>\n",
       "      <td>-1.173036</td>\n",
       "      <td>-1.098280</td>\n",
       "      <td>0.039844</td>\n",
       "      <td>1.475592</td>\n",
       "      <td>1.170474</td>\n",
       "      <td>1.970077</td>\n",
       "      <td>-0.459239</td>\n",
       "      <td>-0.755640</td>\n",
       "      <td>1</td>\n",
       "      <td>0</td>\n",
       "      <td>0</td>\n",
       "    </tr>\n",
       "    <tr>\n",
       "      <th>2</th>\n",
       "      <td>-1.637643</td>\n",
       "      <td>-1.173036</td>\n",
       "      <td>-1.098280</td>\n",
       "      <td>0.039844</td>\n",
       "      <td>1.475592</td>\n",
       "      <td>1.170474</td>\n",
       "      <td>1.970077</td>\n",
       "      <td>-0.459239</td>\n",
       "      <td>-0.755640</td>\n",
       "      <td>1</td>\n",
       "      <td>0</td>\n",
       "      <td>0</td>\n",
       "    </tr>\n",
       "    <tr>\n",
       "      <th>3</th>\n",
       "      <td>-1.637643</td>\n",
       "      <td>-1.550588</td>\n",
       "      <td>-2.771424</td>\n",
       "      <td>-1.402260</td>\n",
       "      <td>1.475592</td>\n",
       "      <td>3.591698</td>\n",
       "      <td>-2.362273</td>\n",
       "      <td>1.479309</td>\n",
       "      <td>0.869486</td>\n",
       "      <td>1</td>\n",
       "      <td>2</td>\n",
       "      <td>0</td>\n",
       "    </tr>\n",
       "    <tr>\n",
       "      <th>4</th>\n",
       "      <td>-1.637643</td>\n",
       "      <td>-1.550588</td>\n",
       "      <td>-2.771424</td>\n",
       "      <td>-1.402260</td>\n",
       "      <td>1.475592</td>\n",
       "      <td>3.591698</td>\n",
       "      <td>-2.362273</td>\n",
       "      <td>1.479309</td>\n",
       "      <td>0.869486</td>\n",
       "      <td>1</td>\n",
       "      <td>2</td>\n",
       "      <td>0</td>\n",
       "    </tr>\n",
       "  </tbody>\n",
       "</table>\n",
       "</div>"
      ],
      "text/plain": [
       "        Age  Sleep Duration  Quality of Sleep  Physical Activity Level  \\\n",
       "0 -1.753096       -1.298887         -1.098280                -0.825418   \n",
       "1 -1.637643       -1.173036         -1.098280                 0.039844   \n",
       "2 -1.637643       -1.173036         -1.098280                 0.039844   \n",
       "3 -1.637643       -1.550588         -2.771424                -1.402260   \n",
       "4 -1.637643       -1.550588         -2.771424                -1.402260   \n",
       "\n",
       "   Stress Level  Heart Rate  Daily Steps  Systolic  Diastolic  Gender  \\\n",
       "0      0.347021    1.654719    -1.619584 -0.330002  -0.268102       1   \n",
       "1      1.475592    1.170474     1.970077 -0.459239  -0.755640       1   \n",
       "2      1.475592    1.170474     1.970077 -0.459239  -0.755640       1   \n",
       "3      1.475592    3.591698    -2.362273  1.479309   0.869486       1   \n",
       "4      1.475592    3.591698    -2.362273  1.479309   0.869486       1   \n",
       "\n",
       "   BMI Category  insomnia_binary  \n",
       "0             3                0  \n",
       "1             0                0  \n",
       "2             0                0  \n",
       "3             2                0  \n",
       "4             2                0  "
      ]
     },
     "execution_count": 90,
     "metadata": {},
     "output_type": "execute_result"
    }
   ],
   "source": [
    "# Select only the numeric features you want to scale\n",
    "numeric_features = ['Age', 'Sleep Duration', 'Quality of Sleep', 'Physical Activity Level','Stress Level', 'Heart Rate', 'Daily Steps', 'Systolic', 'Diastolic']\n",
    "\n",
    "# Initialize the scaler\n",
    "scaler = StandardScaler()\n",
    "\n",
    "# Fit and transform only the numeric features\n",
    "df_scaled = pd.DataFrame(scaler.fit_transform(df[numeric_features]), columns=numeric_features)\n",
    "\n",
    "# If you want to keep the non-numeric features in the DataFrame\n",
    "df_scaled = pd.concat([df_scaled, df.drop(columns=numeric_features)], axis=1)\n",
    "\n",
    "# Display the scaled data\n",
    "df_scaled.head()"
   ]
  },
  {
   "cell_type": "code",
   "execution_count": 91,
   "metadata": {},
   "outputs": [],
   "source": [
    "features = df_scaled.drop(columns='insomnia_binary')\n",
    "X_scaled = features\n",
    "y_scaled = df_scaled['insomnia_binary']"
   ]
  },
  {
   "cell_type": "code",
   "execution_count": 92,
   "metadata": {},
   "outputs": [],
   "source": [
    "oversample = over_sampling.SMOTE()\n",
    "X_scaled, y_scaled = oversample.fit_resample(X_scaled, y_scaled)"
   ]
  },
  {
   "cell_type": "code",
   "execution_count": 93,
   "metadata": {},
   "outputs": [],
   "source": [
    "X_train, X_test, y_train, y_test = train_test_split(X_scaled,y_scaled, test_size=0.3, random_state=36)\n",
    "\n",
    "cv = RepeatedKFold(n_splits=10, n_repeats=3, random_state=36)"
   ]
  },
  {
   "cell_type": "code",
   "execution_count": 94,
   "metadata": {},
   "outputs": [
    {
     "name": "stdout",
     "output_type": "stream",
     "text": [
      "Classification Report:\n",
      "              precision    recall  f1-score   support\n",
      "\n",
      "           0       0.92      0.96      0.94        98\n",
      "           1       0.95      0.90      0.92        81\n",
      "\n",
      "    accuracy                           0.93       179\n",
      "   macro avg       0.93      0.93      0.93       179\n",
      "weighted avg       0.93      0.93      0.93       179\n",
      "\n",
      "Confusion Matrix:\n",
      "[[94  4]\n",
      " [ 8 73]]\n"
     ]
    }
   ],
   "source": [
    "# Train the model\n",
    "model = BaggingClassifier(random_state=36)\n",
    "model.fit(X_train, y_train)\n",
    "\n",
    "# Make predictions\n",
    "y_pred = model.predict(X_test)\n",
    "\n",
    "# Generate classification report\n",
    "report = classification_report(y_test, y_pred)\n",
    "print(\"Classification Report:\")\n",
    "print(report)\n",
    "\n",
    "# Generate confusion matrix\n",
    "cm = confusion_matrix(y_test, y_pred)\n",
    "print(\"Confusion Matrix:\")\n",
    "print(cm)"
   ]
  },
  {
   "cell_type": "code",
   "execution_count": 95,
   "metadata": {},
   "outputs": [],
   "source": [
    "param_grid_bc = {\n",
    "    'estimator': [None, DecisionTreeClassifier(max_depth=5), DecisionTreeClassifier(max_depth=10)],\n",
    "    'n_estimators': [10, 50, 100],  # Number of base estimators\n",
    "    'max_samples': [0.5, 0.7, 1.0],  # Fraction of samples to draw from X to train each base estimator\n",
    "    'max_features': [0.5, 0.7, 1.0],  # Fraction of features to draw from X to train each base estimator\n",
    "    'bootstrap': [True, False],  # Whether to use bootstrap samples\n",
    "    'bootstrap_features': [True, False],  # Whether to use bootstrap samples for features\n",
    "    'n_jobs': [-1]  # Number of jobs to run in parallel\n",
    "}"
   ]
  },
  {
   "cell_type": "code",
   "execution_count": 96,
   "metadata": {},
   "outputs": [
    {
     "name": "stdout",
     "output_type": "stream",
     "text": [
      "> BEST SCORE: \t\t0.9370070205171273\n",
      "> OPTIMAL PARAMETERS: \t{'bootstrap': False, 'bootstrap_features': False, 'estimator': None, 'max_features': 0.5, 'max_samples': 1.0, 'n_estimators': 100, 'n_jobs': -1}\n",
      "\n",
      "Classification Report:\n",
      "              precision    recall  f1-score   support\n",
      "\n",
      "           0       0.92      0.96      0.94        98\n",
      "           1       0.95      0.90      0.92        81\n",
      "\n",
      "    accuracy                           0.93       179\n",
      "   macro avg       0.93      0.93      0.93       179\n",
      "weighted avg       0.93      0.93      0.93       179\n",
      "\n",
      "Confusion Matrix:\n",
      "[[94  4]\n",
      " [ 8 73]]\n"
     ]
    }
   ],
   "source": [
    "search = GridSearchCV(estimator=BaggingClassifier(random_state=36),\n",
    "                      param_grid=param_grid_bc,\n",
    "                      scoring=recall_scorer,\n",
    "                      n_jobs=-1,\n",
    "                      cv=cv)\n",
    "\n",
    "result = search.fit(X_train, y_train)\n",
    "\n",
    "print(\"> BEST SCORE: \\t\\t{}\".format(result.best_score_))\n",
    "print(\"> OPTIMAL PARAMETERS: \\t{}\".format(result.best_params_))\n",
    "\n",
    "best_model = result.best_estimator_\n",
    "y_pred = best_model.predict(X_test)\n",
    "\n",
    "# Generate the classification report\n",
    "print(\"\\nClassification Report:\")\n",
    "print(classification_report(y_test, y_pred))\n",
    "\n",
    "# Generate the confusion matrix\n",
    "print(\"Confusion Matrix:\")\n",
    "print(confusion_matrix(y_test, y_pred))"
   ]
  },
  {
   "cell_type": "code",
   "execution_count": 97,
   "metadata": {},
   "outputs": [
    {
     "name": "stdout",
     "output_type": "stream",
     "text": [
      "> BEST SCORE: \t\t0.9486062717770036\n",
      "> OPTIMAL PARAMETERS: \t{'bootstrap': False, 'bootstrap_features': False, 'estimator': None, 'max_features': 0.5, 'max_samples': 1.0, 'n_estimators': 100, 'n_jobs': -1}\n",
      "\n",
      "Classification Report:\n",
      "              precision    recall  f1-score   support\n",
      "\n",
      "           0       0.92      0.96      0.94        98\n",
      "           1       0.95      0.90      0.92        81\n",
      "\n",
      "    accuracy                           0.93       179\n",
      "   macro avg       0.93      0.93      0.93       179\n",
      "weighted avg       0.93      0.93      0.93       179\n",
      "\n",
      "Confusion Matrix:\n",
      "[[94  4]\n",
      " [ 8 73]]\n"
     ]
    }
   ],
   "source": [
    "search = GridSearchCV(estimator=BaggingClassifier(random_state=36),\n",
    "                      param_grid=param_grid_bc,\n",
    "                      scoring='accuracy',\n",
    "                      n_jobs=-1,\n",
    "                      cv=cv)\n",
    "\n",
    "result = search.fit(X_train, y_train)\n",
    "\n",
    "print(\"> BEST SCORE: \\t\\t{}\".format(result.best_score_))\n",
    "print(\"> OPTIMAL PARAMETERS: \\t{}\".format(result.best_params_))\n",
    "\n",
    "best_model = result.best_estimator_\n",
    "y_pred = best_model.predict(X_test)\n",
    "\n",
    "# Generate the classification report\n",
    "print(\"\\nClassification Report:\")\n",
    "print(classification_report(y_test, y_pred))\n",
    "\n",
    "# Generate the confusion matrix\n",
    "print(\"Confusion Matrix:\")\n",
    "print(confusion_matrix(y_test, y_pred))"
   ]
  },
  {
   "cell_type": "code",
   "execution_count": 98,
   "metadata": {},
   "outputs": [
    {
     "name": "stdout",
     "output_type": "stream",
     "text": [
      "> BEST SCORE: \t\t0.9679091104749334\n",
      "> OPTIMAL PARAMETERS: \t{'bootstrap': False, 'bootstrap_features': False, 'estimator': DecisionTreeClassifier(max_depth=10), 'max_features': 0.7, 'max_samples': 1.0, 'n_estimators': 10, 'n_jobs': -1}\n",
      "\n",
      "Classification Report:\n",
      "              precision    recall  f1-score   support\n",
      "\n",
      "           0       0.92      0.95      0.93        98\n",
      "           1       0.94      0.90      0.92        81\n",
      "\n",
      "    accuracy                           0.93       179\n",
      "   macro avg       0.93      0.93      0.93       179\n",
      "weighted avg       0.93      0.93      0.93       179\n",
      "\n",
      "Confusion Matrix:\n",
      "[[93  5]\n",
      " [ 8 73]]\n"
     ]
    }
   ],
   "source": [
    "search = GridSearchCV(estimator=BaggingClassifier(random_state=36),\n",
    "                      param_grid=param_grid_bc,\n",
    "                      scoring='precision',\n",
    "                      n_jobs=-1,\n",
    "                      cv=cv)\n",
    "\n",
    "result = search.fit(X_train, y_train)\n",
    "\n",
    "print(\"> BEST SCORE: \\t\\t{}\".format(result.best_score_))\n",
    "print(\"> OPTIMAL PARAMETERS: \\t{}\".format(result.best_params_))\n",
    "\n",
    "best_model = result.best_estimator_\n",
    "y_pred = best_model.predict(X_test)\n",
    "\n",
    "# Generate the classification report\n",
    "print(\"\\nClassification Report:\")\n",
    "print(classification_report(y_test, y_pred))\n",
    "\n",
    "# Generate the confusion matrix\n",
    "print(\"Confusion Matrix:\")\n",
    "print(confusion_matrix(y_test, y_pred))"
   ]
  },
  {
   "cell_type": "markdown",
   "metadata": {},
   "source": [
    "## Extra Trees Classifier"
   ]
  },
  {
   "cell_type": "markdown",
   "metadata": {},
   "source": [
    "Similar to the Bagging Classifier, this is the same process as the Logistic Regressor, with the only difference being in the grid used for the GridSearch. "
   ]
  },
  {
   "cell_type": "code",
   "execution_count": 99,
   "metadata": {},
   "outputs": [
    {
     "data": {
      "text/html": [
       "<div>\n",
       "<style scoped>\n",
       "    .dataframe tbody tr th:only-of-type {\n",
       "        vertical-align: middle;\n",
       "    }\n",
       "\n",
       "    .dataframe tbody tr th {\n",
       "        vertical-align: top;\n",
       "    }\n",
       "\n",
       "    .dataframe thead th {\n",
       "        text-align: right;\n",
       "    }\n",
       "</style>\n",
       "<table border=\"1\" class=\"dataframe\">\n",
       "  <thead>\n",
       "    <tr style=\"text-align: right;\">\n",
       "      <th></th>\n",
       "      <th>Age</th>\n",
       "      <th>Sleep Duration</th>\n",
       "      <th>Quality of Sleep</th>\n",
       "      <th>Physical Activity Level</th>\n",
       "      <th>Stress Level</th>\n",
       "      <th>Heart Rate</th>\n",
       "      <th>Daily Steps</th>\n",
       "      <th>Systolic</th>\n",
       "      <th>Diastolic</th>\n",
       "      <th>Gender</th>\n",
       "      <th>BMI Category</th>\n",
       "      <th>insomnia_binary</th>\n",
       "    </tr>\n",
       "  </thead>\n",
       "  <tbody>\n",
       "    <tr>\n",
       "      <th>0</th>\n",
       "      <td>-1.753096</td>\n",
       "      <td>-1.298887</td>\n",
       "      <td>-1.098280</td>\n",
       "      <td>-0.825418</td>\n",
       "      <td>0.347021</td>\n",
       "      <td>1.654719</td>\n",
       "      <td>-1.619584</td>\n",
       "      <td>-0.330002</td>\n",
       "      <td>-0.268102</td>\n",
       "      <td>1</td>\n",
       "      <td>3</td>\n",
       "      <td>0</td>\n",
       "    </tr>\n",
       "    <tr>\n",
       "      <th>1</th>\n",
       "      <td>-1.637643</td>\n",
       "      <td>-1.173036</td>\n",
       "      <td>-1.098280</td>\n",
       "      <td>0.039844</td>\n",
       "      <td>1.475592</td>\n",
       "      <td>1.170474</td>\n",
       "      <td>1.970077</td>\n",
       "      <td>-0.459239</td>\n",
       "      <td>-0.755640</td>\n",
       "      <td>1</td>\n",
       "      <td>0</td>\n",
       "      <td>0</td>\n",
       "    </tr>\n",
       "    <tr>\n",
       "      <th>2</th>\n",
       "      <td>-1.637643</td>\n",
       "      <td>-1.173036</td>\n",
       "      <td>-1.098280</td>\n",
       "      <td>0.039844</td>\n",
       "      <td>1.475592</td>\n",
       "      <td>1.170474</td>\n",
       "      <td>1.970077</td>\n",
       "      <td>-0.459239</td>\n",
       "      <td>-0.755640</td>\n",
       "      <td>1</td>\n",
       "      <td>0</td>\n",
       "      <td>0</td>\n",
       "    </tr>\n",
       "    <tr>\n",
       "      <th>3</th>\n",
       "      <td>-1.637643</td>\n",
       "      <td>-1.550588</td>\n",
       "      <td>-2.771424</td>\n",
       "      <td>-1.402260</td>\n",
       "      <td>1.475592</td>\n",
       "      <td>3.591698</td>\n",
       "      <td>-2.362273</td>\n",
       "      <td>1.479309</td>\n",
       "      <td>0.869486</td>\n",
       "      <td>1</td>\n",
       "      <td>2</td>\n",
       "      <td>0</td>\n",
       "    </tr>\n",
       "    <tr>\n",
       "      <th>4</th>\n",
       "      <td>-1.637643</td>\n",
       "      <td>-1.550588</td>\n",
       "      <td>-2.771424</td>\n",
       "      <td>-1.402260</td>\n",
       "      <td>1.475592</td>\n",
       "      <td>3.591698</td>\n",
       "      <td>-2.362273</td>\n",
       "      <td>1.479309</td>\n",
       "      <td>0.869486</td>\n",
       "      <td>1</td>\n",
       "      <td>2</td>\n",
       "      <td>0</td>\n",
       "    </tr>\n",
       "  </tbody>\n",
       "</table>\n",
       "</div>"
      ],
      "text/plain": [
       "        Age  Sleep Duration  Quality of Sleep  Physical Activity Level  \\\n",
       "0 -1.753096       -1.298887         -1.098280                -0.825418   \n",
       "1 -1.637643       -1.173036         -1.098280                 0.039844   \n",
       "2 -1.637643       -1.173036         -1.098280                 0.039844   \n",
       "3 -1.637643       -1.550588         -2.771424                -1.402260   \n",
       "4 -1.637643       -1.550588         -2.771424                -1.402260   \n",
       "\n",
       "   Stress Level  Heart Rate  Daily Steps  Systolic  Diastolic  Gender  \\\n",
       "0      0.347021    1.654719    -1.619584 -0.330002  -0.268102       1   \n",
       "1      1.475592    1.170474     1.970077 -0.459239  -0.755640       1   \n",
       "2      1.475592    1.170474     1.970077 -0.459239  -0.755640       1   \n",
       "3      1.475592    3.591698    -2.362273  1.479309   0.869486       1   \n",
       "4      1.475592    3.591698    -2.362273  1.479309   0.869486       1   \n",
       "\n",
       "   BMI Category  insomnia_binary  \n",
       "0             3                0  \n",
       "1             0                0  \n",
       "2             0                0  \n",
       "3             2                0  \n",
       "4             2                0  "
      ]
     },
     "execution_count": 99,
     "metadata": {},
     "output_type": "execute_result"
    }
   ],
   "source": [
    "# Select only the numeric features you want to scale\n",
    "numeric_features = ['Age', 'Sleep Duration', 'Quality of Sleep', 'Physical Activity Level','Stress Level', 'Heart Rate', 'Daily Steps', 'Systolic', 'Diastolic']\n",
    "\n",
    "# Initialize the scaler\n",
    "scaler = StandardScaler()\n",
    "\n",
    "# Fit and transform only the numeric features\n",
    "df_scaled = pd.DataFrame(scaler.fit_transform(df[numeric_features]), columns=numeric_features)\n",
    "\n",
    "# If you want to keep the non-numeric features in the DataFrame\n",
    "df_scaled = pd.concat([df_scaled, df.drop(columns=numeric_features)], axis=1)\n",
    "\n",
    "# Display the scaled data\n",
    "df_scaled.head()"
   ]
  },
  {
   "cell_type": "code",
   "execution_count": 100,
   "metadata": {},
   "outputs": [],
   "source": [
    "features = df_scaled.drop(columns='insomnia_binary')\n",
    "X_scaled = features\n",
    "y_scaled = df_scaled['insomnia_binary']"
   ]
  },
  {
   "cell_type": "code",
   "execution_count": 101,
   "metadata": {},
   "outputs": [],
   "source": [
    "oversample = over_sampling.SMOTE()\n",
    "X_scaled, y_scaled = oversample.fit_resample(X_scaled, y_scaled)"
   ]
  },
  {
   "cell_type": "code",
   "execution_count": 102,
   "metadata": {},
   "outputs": [],
   "source": [
    "X_train, X_test, y_train, y_test = train_test_split(X_scaled,y_scaled, test_size=0.3, random_state=36)\n",
    "\n",
    "cv = RepeatedKFold(n_splits=10, n_repeats=3, random_state=36)"
   ]
  },
  {
   "cell_type": "code",
   "execution_count": 103,
   "metadata": {},
   "outputs": [
    {
     "name": "stdout",
     "output_type": "stream",
     "text": [
      "Classification Report:\n",
      "              precision    recall  f1-score   support\n",
      "\n",
      "           0       0.97      0.96      0.96        98\n",
      "           1       0.95      0.96      0.96        81\n",
      "\n",
      "    accuracy                           0.96       179\n",
      "   macro avg       0.96      0.96      0.96       179\n",
      "weighted avg       0.96      0.96      0.96       179\n",
      "\n",
      "Confusion Matrix:\n",
      "[[94  4]\n",
      " [ 3 78]]\n"
     ]
    }
   ],
   "source": [
    "# Train the model\n",
    "model = ExtraTreesClassifier(random_state=36)\n",
    "model.fit(X_train, y_train)\n",
    "\n",
    "# Make predictions\n",
    "y_pred = model.predict(X_test)\n",
    "\n",
    "# Generate classification report\n",
    "report = classification_report(y_test, y_pred)\n",
    "print(\"Classification Report:\")\n",
    "print(report)\n",
    "\n",
    "# Generate confusion matrix\n",
    "cm = confusion_matrix(y_test, y_pred)\n",
    "print(\"Confusion Matrix:\")\n",
    "print(cm)"
   ]
  },
  {
   "cell_type": "code",
   "execution_count": 104,
   "metadata": {},
   "outputs": [],
   "source": [
    "param_grid_etc = {\n",
    "    'n_estimators': [50, 100, 200],         # Number of trees in the forest\n",
    "    'max_features': ['auto', 'sqrt', 'log2'], # Number of features to consider for the best split\n",
    "    'max_depth': [None, 10, 20, 30],        # Maximum depth of the tree\n",
    "    'min_samples_split': [2, 5, 10],         # Minimum number of samples required to split an internal node\n",
    "    'min_samples_leaf': [1, 2, 4],           # Minimum number of samples required to be at a leaf node\n",
    "    'bootstrap': [True, False],              # Whether to use bootstrap samples\n",
    "    'n_jobs': [-1]                           # Number of jobs to run in parallel\n",
    "}"
   ]
  },
  {
   "cell_type": "code",
   "execution_count": 105,
   "metadata": {},
   "outputs": [
    {
     "name": "stdout",
     "output_type": "stream",
     "text": [
      "> BEST SCORE: \t\t0.9356612939141543\n",
      "> OPTIMAL PARAMETERS: \t{'bootstrap': False, 'max_depth': None, 'max_features': 'sqrt', 'min_samples_leaf': 1, 'min_samples_split': 10, 'n_estimators': 200, 'n_jobs': -1}\n",
      "\n",
      "Classification Report:\n",
      "              precision    recall  f1-score   support\n",
      "\n",
      "           0       0.96      0.96      0.96        98\n",
      "           1       0.95      0.95      0.95        81\n",
      "\n",
      "    accuracy                           0.96       179\n",
      "   macro avg       0.95      0.95      0.95       179\n",
      "weighted avg       0.96      0.96      0.96       179\n",
      "\n",
      "Confusion Matrix:\n",
      "[[94  4]\n",
      " [ 4 77]]\n"
     ]
    }
   ],
   "source": [
    "search = GridSearchCV(estimator=ExtraTreesClassifier(random_state=36),\n",
    "                      param_grid=param_grid_etc,\n",
    "                      scoring=recall_scorer,\n",
    "                      n_jobs=-1,\n",
    "                      cv=cv)\n",
    "\n",
    "result = search.fit(X_train, y_train)\n",
    "\n",
    "print(\"> BEST SCORE: \\t\\t{}\".format(result.best_score_))\n",
    "print(\"> OPTIMAL PARAMETERS: \\t{}\".format(result.best_params_))\n",
    "\n",
    "best_model = result.best_estimator_\n",
    "y_pred = best_model.predict(X_test)\n",
    "\n",
    "# Generate the classification report\n",
    "print(\"\\nClassification Report:\")\n",
    "print(classification_report(y_test, y_pred))\n",
    "\n",
    "# Generate the confusion matrix\n",
    "print(\"Confusion Matrix:\")\n",
    "print(confusion_matrix(y_test, y_pred))"
   ]
  },
  {
   "cell_type": "code",
   "execution_count": 106,
   "metadata": {},
   "outputs": [
    {
     "name": "stdout",
     "output_type": "stream",
     "text": [
      "> BEST SCORE: \t\t0.9454316686024004\n",
      "> OPTIMAL PARAMETERS: \t{'bootstrap': False, 'max_depth': None, 'max_features': 'sqrt', 'min_samples_leaf': 1, 'min_samples_split': 2, 'n_estimators': 200, 'n_jobs': -1}\n",
      "\n",
      "Classification Report:\n",
      "              precision    recall  f1-score   support\n",
      "\n",
      "           0       0.97      0.96      0.96        98\n",
      "           1       0.95      0.96      0.96        81\n",
      "\n",
      "    accuracy                           0.96       179\n",
      "   macro avg       0.96      0.96      0.96       179\n",
      "weighted avg       0.96      0.96      0.96       179\n",
      "\n",
      "Confusion Matrix:\n",
      "[[94  4]\n",
      " [ 3 78]]\n"
     ]
    }
   ],
   "source": [
    "search = GridSearchCV(estimator=ExtraTreesClassifier(random_state=36),\n",
    "                      param_grid=param_grid_etc,\n",
    "                      scoring='accuracy',\n",
    "                      n_jobs=-1,\n",
    "                      cv=cv)\n",
    "\n",
    "result = search.fit(X_train, y_train)\n",
    "\n",
    "print(\"> BEST SCORE: \\t\\t{}\".format(result.best_score_))\n",
    "print(\"> OPTIMAL PARAMETERS: \\t{}\".format(result.best_params_))\n",
    "\n",
    "best_model = result.best_estimator_\n",
    "y_pred = best_model.predict(X_test)\n",
    "\n",
    "# Generate the classification report\n",
    "print(\"\\nClassification Report:\")\n",
    "print(classification_report(y_test, y_pred))\n",
    "\n",
    "# Generate the confusion matrix\n",
    "print(\"Confusion Matrix:\")\n",
    "print(confusion_matrix(y_test, y_pred))"
   ]
  },
  {
   "cell_type": "code",
   "execution_count": 107,
   "metadata": {},
   "outputs": [
    {
     "name": "stdout",
     "output_type": "stream",
     "text": [
      "> BEST SCORE: \t\t0.9671651102944008\n",
      "> OPTIMAL PARAMETERS: \t{'bootstrap': False, 'max_depth': None, 'max_features': 'sqrt', 'min_samples_leaf': 1, 'min_samples_split': 2, 'n_estimators': 200, 'n_jobs': -1}\n",
      "\n",
      "Classification Report:\n",
      "              precision    recall  f1-score   support\n",
      "\n",
      "           0       0.97      0.96      0.96        98\n",
      "           1       0.95      0.96      0.96        81\n",
      "\n",
      "    accuracy                           0.96       179\n",
      "   macro avg       0.96      0.96      0.96       179\n",
      "weighted avg       0.96      0.96      0.96       179\n",
      "\n",
      "Confusion Matrix:\n",
      "[[94  4]\n",
      " [ 3 78]]\n"
     ]
    }
   ],
   "source": [
    "search = GridSearchCV(estimator=ExtraTreesClassifier(random_state=36),\n",
    "                      param_grid=param_grid_etc,\n",
    "                      scoring='precision',\n",
    "                      n_jobs=-1,\n",
    "                      cv=cv)\n",
    "\n",
    "result = search.fit(X_train, y_train)\n",
    "\n",
    "print(\"> BEST SCORE: \\t\\t{}\".format(result.best_score_))\n",
    "print(\"> OPTIMAL PARAMETERS: \\t{}\".format(result.best_params_))\n",
    "\n",
    "best_model = result.best_estimator_\n",
    "y_pred = best_model.predict(X_test)\n",
    "\n",
    "# Generate the classification report\n",
    "print(\"\\nClassification Report:\")\n",
    "print(classification_report(y_test, y_pred))\n",
    "\n",
    "# Generate the confusion matrix\n",
    "print(\"Confusion Matrix:\")\n",
    "print(confusion_matrix(y_test, y_pred))"
   ]
  },
  {
   "cell_type": "markdown",
   "metadata": {},
   "source": [
    "_________"
   ]
  },
  {
   "cell_type": "markdown",
   "metadata": {},
   "source": [
    "# Model Tuning"
   ]
  },
  {
   "cell_type": "markdown",
   "metadata": {},
   "source": [
    "Now that I got a good understanding for which models are ideal to use for this model, I am going to adjust the features and tuning of it to get the model to perform exactly how I want it to"
   ]
  },
  {
   "cell_type": "markdown",
   "metadata": {},
   "source": [
    "A lot of the steps that were seen in the hyperparameter tuning steps are reused here with the main addition being the use of LDA/PCA and a threshold when determining which binary variable the predicted value belongs in."
   ]
  },
  {
   "cell_type": "code",
   "execution_count": 108,
   "metadata": {},
   "outputs": [
    {
     "data": {
      "text/html": [
       "<div>\n",
       "<style scoped>\n",
       "    .dataframe tbody tr th:only-of-type {\n",
       "        vertical-align: middle;\n",
       "    }\n",
       "\n",
       "    .dataframe tbody tr th {\n",
       "        vertical-align: top;\n",
       "    }\n",
       "\n",
       "    .dataframe thead th {\n",
       "        text-align: right;\n",
       "    }\n",
       "</style>\n",
       "<table border=\"1\" class=\"dataframe\">\n",
       "  <thead>\n",
       "    <tr style=\"text-align: right;\">\n",
       "      <th></th>\n",
       "      <th>Age</th>\n",
       "      <th>Sleep Duration</th>\n",
       "      <th>Quality of Sleep</th>\n",
       "      <th>Physical Activity Level</th>\n",
       "      <th>Stress Level</th>\n",
       "      <th>Heart Rate</th>\n",
       "      <th>Daily Steps</th>\n",
       "      <th>Systolic</th>\n",
       "      <th>Diastolic</th>\n",
       "      <th>Gender</th>\n",
       "      <th>BMI Category</th>\n",
       "      <th>insomnia_binary</th>\n",
       "    </tr>\n",
       "  </thead>\n",
       "  <tbody>\n",
       "    <tr>\n",
       "      <th>0</th>\n",
       "      <td>-1.753096</td>\n",
       "      <td>-1.298887</td>\n",
       "      <td>-1.098280</td>\n",
       "      <td>-0.825418</td>\n",
       "      <td>0.347021</td>\n",
       "      <td>1.654719</td>\n",
       "      <td>-1.619584</td>\n",
       "      <td>-0.330002</td>\n",
       "      <td>-0.268102</td>\n",
       "      <td>1</td>\n",
       "      <td>3</td>\n",
       "      <td>0</td>\n",
       "    </tr>\n",
       "    <tr>\n",
       "      <th>1</th>\n",
       "      <td>-1.637643</td>\n",
       "      <td>-1.173036</td>\n",
       "      <td>-1.098280</td>\n",
       "      <td>0.039844</td>\n",
       "      <td>1.475592</td>\n",
       "      <td>1.170474</td>\n",
       "      <td>1.970077</td>\n",
       "      <td>-0.459239</td>\n",
       "      <td>-0.755640</td>\n",
       "      <td>1</td>\n",
       "      <td>0</td>\n",
       "      <td>0</td>\n",
       "    </tr>\n",
       "    <tr>\n",
       "      <th>2</th>\n",
       "      <td>-1.637643</td>\n",
       "      <td>-1.173036</td>\n",
       "      <td>-1.098280</td>\n",
       "      <td>0.039844</td>\n",
       "      <td>1.475592</td>\n",
       "      <td>1.170474</td>\n",
       "      <td>1.970077</td>\n",
       "      <td>-0.459239</td>\n",
       "      <td>-0.755640</td>\n",
       "      <td>1</td>\n",
       "      <td>0</td>\n",
       "      <td>0</td>\n",
       "    </tr>\n",
       "    <tr>\n",
       "      <th>3</th>\n",
       "      <td>-1.637643</td>\n",
       "      <td>-1.550588</td>\n",
       "      <td>-2.771424</td>\n",
       "      <td>-1.402260</td>\n",
       "      <td>1.475592</td>\n",
       "      <td>3.591698</td>\n",
       "      <td>-2.362273</td>\n",
       "      <td>1.479309</td>\n",
       "      <td>0.869486</td>\n",
       "      <td>1</td>\n",
       "      <td>2</td>\n",
       "      <td>0</td>\n",
       "    </tr>\n",
       "    <tr>\n",
       "      <th>4</th>\n",
       "      <td>-1.637643</td>\n",
       "      <td>-1.550588</td>\n",
       "      <td>-2.771424</td>\n",
       "      <td>-1.402260</td>\n",
       "      <td>1.475592</td>\n",
       "      <td>3.591698</td>\n",
       "      <td>-2.362273</td>\n",
       "      <td>1.479309</td>\n",
       "      <td>0.869486</td>\n",
       "      <td>1</td>\n",
       "      <td>2</td>\n",
       "      <td>0</td>\n",
       "    </tr>\n",
       "  </tbody>\n",
       "</table>\n",
       "</div>"
      ],
      "text/plain": [
       "        Age  Sleep Duration  Quality of Sleep  Physical Activity Level  \\\n",
       "0 -1.753096       -1.298887         -1.098280                -0.825418   \n",
       "1 -1.637643       -1.173036         -1.098280                 0.039844   \n",
       "2 -1.637643       -1.173036         -1.098280                 0.039844   \n",
       "3 -1.637643       -1.550588         -2.771424                -1.402260   \n",
       "4 -1.637643       -1.550588         -2.771424                -1.402260   \n",
       "\n",
       "   Stress Level  Heart Rate  Daily Steps  Systolic  Diastolic  Gender  \\\n",
       "0      0.347021    1.654719    -1.619584 -0.330002  -0.268102       1   \n",
       "1      1.475592    1.170474     1.970077 -0.459239  -0.755640       1   \n",
       "2      1.475592    1.170474     1.970077 -0.459239  -0.755640       1   \n",
       "3      1.475592    3.591698    -2.362273  1.479309   0.869486       1   \n",
       "4      1.475592    3.591698    -2.362273  1.479309   0.869486       1   \n",
       "\n",
       "   BMI Category  insomnia_binary  \n",
       "0             3                0  \n",
       "1             0                0  \n",
       "2             0                0  \n",
       "3             2                0  \n",
       "4             2                0  "
      ]
     },
     "execution_count": 108,
     "metadata": {},
     "output_type": "execute_result"
    }
   ],
   "source": [
    "# Select only the numeric features you want to scale\n",
    "numeric_features = ['Age', 'Sleep Duration', 'Quality of Sleep', 'Physical Activity Level','Stress Level', 'Heart Rate', 'Daily Steps', 'Systolic', 'Diastolic']\n",
    "\n",
    "# Initialize the scaler\n",
    "scaler = StandardScaler()\n",
    "\n",
    "# Fit and transform only the numeric features\n",
    "df_scaled = pd.DataFrame(scaler.fit_transform(df[numeric_features]), columns=numeric_features)\n",
    "\n",
    "# If you want to keep the non-numeric features in the DataFrame\n",
    "df_scaled = pd.concat([df_scaled, df.drop(columns=numeric_features)], axis=1)\n",
    "\n",
    "# Display the scaled data\n",
    "df_scaled.head()"
   ]
  },
  {
   "cell_type": "code",
   "execution_count": 109,
   "metadata": {},
   "outputs": [],
   "source": [
    "features = df_scaled.drop(columns=['insomnia_binary', 'Heart Rate', 'Gender', 'BMI Category'])\n",
    "X_scaled = features\n",
    "y_scaled = df_scaled['insomnia_binary']"
   ]
  },
  {
   "cell_type": "code",
   "execution_count": 110,
   "metadata": {},
   "outputs": [],
   "source": [
    "oversample = over_sampling.SMOTE()\n",
    "X, y = oversample.fit_resample(X_scaled, y_scaled)"
   ]
  },
  {
   "cell_type": "code",
   "execution_count": 111,
   "metadata": {},
   "outputs": [],
   "source": [
    "X_train, X_test, y_train, y_test = train_test_split(X,y, test_size=0.3, random_state=36)\n",
    "\n",
    "cv = RepeatedKFold(n_splits=10, n_repeats=3, random_state=36)"
   ]
  },
  {
   "cell_type": "code",
   "execution_count": 112,
   "metadata": {},
   "outputs": [],
   "source": [
    "pca = PCA(n_components=3)\n",
    "X_train_pca = pca.fit_transform(X_train)\n",
    "X_test_pca = pca.transform(X_test)"
   ]
  },
  {
   "cell_type": "code",
   "execution_count": 113,
   "metadata": {},
   "outputs": [
    {
     "name": "stdout",
     "output_type": "stream",
     "text": [
      "Confusion Matrix:\n",
      "[[94  4]\n",
      " [ 4 77]]\n",
      "\n",
      "Classification Report:\n",
      "              precision    recall  f1-score   support\n",
      "\n",
      "           0       0.96      0.96      0.96        98\n",
      "           1       0.95      0.95      0.95        81\n",
      "\n",
      "    accuracy                           0.96       179\n",
      "   macro avg       0.95      0.95      0.95       179\n",
      "weighted avg       0.96      0.96      0.96       179\n",
      "\n",
      "\n",
      "Accuracy Score:\n",
      "0.9553072625698324\n",
      "Confusion Matrix w/Threshold:\n",
      "[[84 14]\n",
      " [ 2 79]]\n",
      "\n",
      "Classification Report w/Threshold:\n",
      "              precision    recall  f1-score   support\n",
      "\n",
      "           0       0.98      0.86      0.91        98\n",
      "           1       0.85      0.98      0.91        81\n",
      "\n",
      "    accuracy                           0.91       179\n",
      "   macro avg       0.91      0.92      0.91       179\n",
      "weighted avg       0.92      0.91      0.91       179\n",
      "\n",
      "\n",
      "Accuracy Score w/Threshold:\n",
      "0.9106145251396648\n"
     ]
    }
   ],
   "source": [
    "model = ExtraTreesClassifier(bootstrap=False, \n",
    "                             max_depth=None, \n",
    "                             max_features='sqrt', \n",
    "                             min_samples_leaf=1, \n",
    "                             min_samples_split=2, \n",
    "                             n_estimators=200, \n",
    "                             n_jobs=-1,\n",
    "                             random_state=36)\n",
    "\n",
    "model.fit(X_train_pca,y_train)\n",
    "y_pred = model.predict(X_test_pca)\n",
    "\n",
    "# Evaluate the model\n",
    "print(\"Confusion Matrix:\")\n",
    "print(confusion_matrix(y_test, y_pred))\n",
    "print(\"\\nClassification Report:\")\n",
    "print(classification_report(y_test, y_pred))\n",
    "print(\"\\nAccuracy Score:\")\n",
    "print(accuracy_score(y_test, y_pred))\n",
    "\n",
    "\n",
    "# Predict probabilities to adjust the decision threshold\n",
    "y_pred_proba = model.predict_proba(X_test_pca)[:, 1]\n",
    "\n",
    "# Adjust the threshold (lower threshold increases sensitivity to positives)\n",
    "threshold = 0.1\n",
    "y_pred_thres = (y_pred_proba >= threshold).astype(int)\n",
    "\n",
    "# Evaluate the model\n",
    "print(\"Confusion Matrix w/Threshold:\")\n",
    "print(confusion_matrix(y_test, y_pred_thres))\n",
    "print(\"\\nClassification Report w/Threshold:\")\n",
    "print(classification_report(y_test, y_pred_thres))\n",
    "print(\"\\nAccuracy Score w/Threshold:\")\n",
    "print(accuracy_score(y_test, y_pred_thres))"
   ]
  },
  {
   "cell_type": "markdown",
   "metadata": {},
   "source": [
    "# The Pipeline"
   ]
  },
  {
   "cell_type": "code",
   "execution_count": 114,
   "metadata": {},
   "outputs": [],
   "source": [
    "# Define the numeric features for scaling\n",
    "numeric_features = ['Age', 'Sleep Duration', 'Quality of Sleep', 'Physical Activity Level', \n",
    "                    'Stress Level', 'Daily Steps', 'Systolic', 'Diastolic']"
   ]
  },
  {
   "cell_type": "code",
   "execution_count": 115,
   "metadata": {},
   "outputs": [],
   "source": [
    "# Define the preprocessing step\n",
    "preprocessor = ColumnTransformer(\n",
    "    transformers=[\n",
    "        ('num', StandardScaler(), numeric_features)\n",
    "    ], remainder='passthrough')"
   ]
  },
  {
   "cell_type": "code",
   "execution_count": 116,
   "metadata": {},
   "outputs": [],
   "source": [
    "# Define the pipeline\n",
    "pipeline = Pipeline(steps=[\n",
    "    ('preprocessor', preprocessor),\n",
    "    ('pca', PCA(n_components=3)),\n",
    "    ('model', ExtraTreesClassifier(bootstrap=False, \n",
    "                                   max_depth=None, \n",
    "                                   max_features='sqrt', \n",
    "                                   min_samples_leaf=1, \n",
    "                                   min_samples_split=2, \n",
    "                                   n_estimators=200, \n",
    "                                   n_jobs=-1,\n",
    "                                   random_state=36))\n",
    "])"
   ]
  },
  {
   "cell_type": "code",
   "execution_count": 117,
   "metadata": {},
   "outputs": [],
   "source": [
    "# Separate features and target variable\n",
    "features = df.drop(columns=['insomnia_binary', 'Heart Rate', 'Gender', 'BMI Category'])\n",
    "X_scaled = features\n",
    "y_scaled = df['insomnia_binary']\n"
   ]
  },
  {
   "cell_type": "code",
   "execution_count": 118,
   "metadata": {},
   "outputs": [],
   "source": [
    "# Apply SMOTE for oversampling\n",
    "oversample = SMOTE(random_state=36)\n",
    "X, y = oversample.fit_resample(X_scaled, y_scaled)"
   ]
  },
  {
   "cell_type": "code",
   "execution_count": 119,
   "metadata": {},
   "outputs": [],
   "source": [
    "# Split the data into training and testing sets\n",
    "X_train, X_test, y_train, y_test = train_test_split(X, y, test_size=0.3, random_state=36)"
   ]
  },
  {
   "cell_type": "code",
   "execution_count": 120,
   "metadata": {},
   "outputs": [
    {
     "data": {
      "text/html": [
       "<div>\n",
       "<style scoped>\n",
       "    .dataframe tbody tr th:only-of-type {\n",
       "        vertical-align: middle;\n",
       "    }\n",
       "\n",
       "    .dataframe tbody tr th {\n",
       "        vertical-align: top;\n",
       "    }\n",
       "\n",
       "    .dataframe thead th {\n",
       "        text-align: right;\n",
       "    }\n",
       "</style>\n",
       "<table border=\"1\" class=\"dataframe\">\n",
       "  <thead>\n",
       "    <tr style=\"text-align: right;\">\n",
       "      <th></th>\n",
       "      <th>Age</th>\n",
       "      <th>Sleep Duration</th>\n",
       "      <th>Quality of Sleep</th>\n",
       "      <th>Physical Activity Level</th>\n",
       "      <th>Stress Level</th>\n",
       "      <th>Daily Steps</th>\n",
       "      <th>Systolic</th>\n",
       "      <th>Diastolic</th>\n",
       "    </tr>\n",
       "  </thead>\n",
       "  <tbody>\n",
       "    <tr>\n",
       "      <th>498</th>\n",
       "      <td>43</td>\n",
       "      <td>6.5</td>\n",
       "      <td>6</td>\n",
       "      <td>45</td>\n",
       "      <td>7</td>\n",
       "      <td>6000</td>\n",
       "      <td>130</td>\n",
       "      <td>85</td>\n",
       "    </tr>\n",
       "    <tr>\n",
       "      <th>346</th>\n",
       "      <td>57</td>\n",
       "      <td>8.2</td>\n",
       "      <td>9</td>\n",
       "      <td>75</td>\n",
       "      <td>3</td>\n",
       "      <td>7000</td>\n",
       "      <td>140</td>\n",
       "      <td>95</td>\n",
       "    </tr>\n",
       "    <tr>\n",
       "      <th>67</th>\n",
       "      <td>33</td>\n",
       "      <td>6.0</td>\n",
       "      <td>6</td>\n",
       "      <td>30</td>\n",
       "      <td>8</td>\n",
       "      <td>5000</td>\n",
       "      <td>125</td>\n",
       "      <td>80</td>\n",
       "    </tr>\n",
       "    <tr>\n",
       "      <th>516</th>\n",
       "      <td>44</td>\n",
       "      <td>6.3</td>\n",
       "      <td>6</td>\n",
       "      <td>45</td>\n",
       "      <td>7</td>\n",
       "      <td>6000</td>\n",
       "      <td>130</td>\n",
       "      <td>85</td>\n",
       "    </tr>\n",
       "    <tr>\n",
       "      <th>561</th>\n",
       "      <td>44</td>\n",
       "      <td>6.4</td>\n",
       "      <td>6</td>\n",
       "      <td>45</td>\n",
       "      <td>7</td>\n",
       "      <td>6000</td>\n",
       "      <td>130</td>\n",
       "      <td>85</td>\n",
       "    </tr>\n",
       "  </tbody>\n",
       "</table>\n",
       "</div>"
      ],
      "text/plain": [
       "     Age  Sleep Duration  Quality of Sleep  Physical Activity Level  \\\n",
       "498   43             6.5                 6                       45   \n",
       "346   57             8.2                 9                       75   \n",
       "67    33             6.0                 6                       30   \n",
       "516   44             6.3                 6                       45   \n",
       "561   44             6.4                 6                       45   \n",
       "\n",
       "     Stress Level  Daily Steps  Systolic  Diastolic  \n",
       "498             7         6000       130         85  \n",
       "346             3         7000       140         95  \n",
       "67              8         5000       125         80  \n",
       "516             7         6000       130         85  \n",
       "561             7         6000       130         85  "
      ]
     },
     "execution_count": 120,
     "metadata": {},
     "output_type": "execute_result"
    }
   ],
   "source": [
    "X_train.head()"
   ]
  },
  {
   "cell_type": "code",
   "execution_count": 121,
   "metadata": {},
   "outputs": [
    {
     "name": "stdout",
     "output_type": "stream",
     "text": [
      "Confusion Matrix:\n",
      "[[94  4]\n",
      " [ 6 75]]\n",
      "\n",
      "Classification Report:\n",
      "              precision    recall  f1-score   support\n",
      "\n",
      "           0       0.94      0.96      0.95        98\n",
      "           1       0.95      0.93      0.94        81\n",
      "\n",
      "    accuracy                           0.94       179\n",
      "   macro avg       0.94      0.94      0.94       179\n",
      "weighted avg       0.94      0.94      0.94       179\n",
      "\n",
      "\n",
      "Accuracy Score:\n",
      "0.9441340782122905\n"
     ]
    }
   ],
   "source": [
    "# Train the model\n",
    "pipeline.fit(X_train, y_train)\n",
    "\n",
    "# Predict on the test set\n",
    "y_pred = pipeline.predict(X_test)\n",
    "\n",
    "# Evaluate the model\n",
    "print(\"Confusion Matrix:\")\n",
    "print(confusion_matrix(y_test, y_pred))\n",
    "print(\"\\nClassification Report:\")\n",
    "print(classification_report(y_test, y_pred))\n",
    "print(\"\\nAccuracy Score:\")\n",
    "print(accuracy_score(y_test, y_pred))"
   ]
  },
  {
   "cell_type": "code",
   "execution_count": 122,
   "metadata": {},
   "outputs": [
    {
     "name": "stdout",
     "output_type": "stream",
     "text": [
      "Confusion Matrix w/Threshold:\n",
      "[[81 17]\n",
      " [ 3 78]]\n",
      "\n",
      "Classification Report w/Threshold:\n",
      "              precision    recall  f1-score   support\n",
      "\n",
      "           0       0.96      0.83      0.89        98\n",
      "           1       0.82      0.96      0.89        81\n",
      "\n",
      "    accuracy                           0.89       179\n",
      "   macro avg       0.89      0.89      0.89       179\n",
      "weighted avg       0.90      0.89      0.89       179\n",
      "\n",
      "\n",
      "Accuracy Score w/Threshold:\n",
      "0.888268156424581\n"
     ]
    }
   ],
   "source": [
    "# Fit the pipeline on the training data\n",
    "pipeline.fit(X_train, y_train)\n",
    "\n",
    "# Predict probabilities using the pipeline\n",
    "y_pred_proba = pipeline.predict_proba(X_test)[:, 1]\n",
    "\n",
    "# Adjust the threshold\n",
    "threshold = 0.08\n",
    "y_pred_thres = (y_pred_proba >= threshold).astype(int)\n",
    "\n",
    "# Evaluate the model with the adjusted threshold\n",
    "print(\"Confusion Matrix w/Threshold:\")\n",
    "print(confusion_matrix(y_test, y_pred_thres))\n",
    "print(\"\\nClassification Report w/Threshold:\")\n",
    "print(classification_report(y_test, y_pred_thres))\n",
    "print(\"\\nAccuracy Score w/Threshold:\")\n",
    "print(accuracy_score(y_test, y_pred_thres))"
   ]
  },
  {
   "cell_type": "code",
   "execution_count": 123,
   "metadata": {},
   "outputs": [
    {
     "data": {
      "image/png": "[encoded data removed]",
      "text/plain": [
       "<Figure size 1800x1200 with 4 Axes>"
      ]
     },
     "metadata": {},
     "output_type": "display_data"
    }
   ],
   "source": [
    "# Predict probabilities and predictions using the pipeline\n",
    "y_pred_proba = pipeline.predict_proba(X_test)[:, 1]\n",
    "y_pred = pipeline.predict(X_test)\n",
    "\n",
    "# Compute ROC curve without threshold adjustment\n",
    "fpr_no_thresh, tpr_no_thresh, _ = roc_curve(y_test, y_pred_proba)\n",
    "roc_auc_no_thresh = roc_auc_score(y_test, y_pred_proba)\n",
    "\n",
    "# Adjust the threshold\n",
    "threshold = 0.1\n",
    "y_pred_thres = (y_pred_proba >= threshold).astype(int)\n",
    "\n",
    "# Compute ROC curve with threshold adjustment\n",
    "fpr_thresh, tpr_thresh, _ = roc_curve(y_test, y_pred_proba)\n",
    "roc_auc_thresh = roc_auc_score(y_test, y_pred_thres)\n",
    "\n",
    "# Compute confusion matrices\n",
    "conf_matrix_no_thresh = confusion_matrix(y_test, y_pred)\n",
    "conf_matrix_thresh = confusion_matrix(y_test, y_pred_thres)\n",
    "\n",
    "# Create subplots for ROC curves and confusion matrices\n",
    "fig, axes = plt.subplots(2, 2, figsize=(18, 12))\n",
    "\n",
    "# Plot ROC curve without threshold adjustment\n",
    "axes[0, 0].plot(fpr_no_thresh, tpr_no_thresh, color='blue', lw=2, label=f'ROC curve (AUC = {roc_auc_no_thresh:.2f})')\n",
    "axes[0, 0].plot([0, 1], [0, 1], color='grey', linestyle='--')\n",
    "axes[0, 0].set_xlim([0.0, 1.0])\n",
    "axes[0, 0].set_ylim([0.0, 1.05])\n",
    "axes[0, 0].set_xlabel('False Positive Rate', fontsize=14)\n",
    "axes[0, 0].set_ylabel('True Positive Rate', fontsize=14)\n",
    "axes[0, 0].set_title('ROC Curve Without Threshold', fontsize=16)\n",
    "axes[0, 0].legend(loc='lower right')\n",
    "axes[0, 0].grid(True)\n",
    "\n",
    "# Plot ROC curve with threshold adjustment\n",
    "axes[0, 1].plot(fpr_thresh, tpr_thresh, color='green', lw=2, label=f'ROC curve (AUC = {roc_auc_thresh:.2f})')\n",
    "axes[0, 1].plot([0, 1], [0, 1], color='grey', linestyle='--')\n",
    "axes[0, 1].set_xlim([0.0, 1.0])\n",
    "axes[0, 1].set_ylim([0.0, 1.05])\n",
    "axes[0, 1].set_xlabel('False Positive Rate', fontsize=14)\n",
    "axes[0, 1].set_ylabel('True Positive Rate', fontsize=14)\n",
    "axes[0, 1].set_title('ROC Curve With Threshold Adjustment', fontsize=16)\n",
    "axes[0, 1].legend(loc='lower right')\n",
    "axes[0, 1].grid(True)\n",
    "\n",
    "# Plot confusion matrix without threshold adjustment\n",
    "disp_no_thresh = ConfusionMatrixDisplay(conf_matrix_no_thresh, display_labels=['Negative', 'Positive'])\n",
    "disp_no_thresh.plot(ax=axes[1, 0], cmap='Blues', colorbar=False, values_format='d')\n",
    "axes[1, 0].set_title('Confusion Matrix Without Threshold', fontsize=16)\n",
    "\n",
    "# Plot confusion matrix with threshold adjustment\n",
    "disp_thresh = ConfusionMatrixDisplay(conf_matrix_thresh, display_labels=['Negative', 'Positive'])\n",
    "disp_thresh.plot(ax=axes[1, 1], cmap='Blues', colorbar=False, values_format='d')\n",
    "axes[1, 1].set_title('Confusion Matrix With Threshold Adjustment', fontsize=16)\n",
    "\n",
    "plt.tight_layout()\n",
    "plt.show()\n"
   ]
  },
  {
   "cell_type": "markdown",
   "metadata": {},
   "source": [
    "# Final Pipeline"
   ]
  },
  {
   "cell_type": "markdown",
   "metadata": {},
   "source": [
    "This first cell of code is simply to use the pipeline and evaluate the feature importance. With the final pipeline, PCA is used and therefore feauture importance would not be legible to the human reader."
   ]
  },
  {
   "cell_type": "code",
   "execution_count": 124,
   "metadata": {},
   "outputs": [
    {
     "data": {
      "image/png": "[encoded data removed]",
      "text/plain": [
       "<Figure size 1400x600 with 2 Axes>"
      ]
     },
     "metadata": {},
     "output_type": "display_data"
    },
    {
     "data": {
      "image/png": "[encoded data removed]",
      "text/plain": [
       "<Figure size 1400x600 with 2 Axes>"
      ]
     },
     "metadata": {},
     "output_type": "display_data"
    }
   ],
   "source": [
    "# Additional preprocessing steps\n",
    "label_encoder = LabelEncoder()\n",
    "for column in ['Gender', 'BMI Category']:\n",
    "    df[column] = label_encoder.fit_transform(df[column])\n",
    "\n",
    "# Defining the features and target variable\n",
    "numeric_features = ['Age', 'Sleep Duration', 'Quality of Sleep', 'Physical Activity Level', \n",
    "                    'Stress Level', 'Daily Steps', 'Systolic', 'Diastolic', 'Gender', 'BMI Category']\n",
    "X = df[numeric_features]\n",
    "y = df['insomnia_binary']\n",
    "\n",
    "# Creating the model pipeline (without scaling and PCA)\n",
    "pipeline = Pipeline(steps=[\n",
    "    ('model', ExtraTreesClassifier(bootstrap=False, \n",
    "                                   max_depth=None, \n",
    "                                   max_features='sqrt', \n",
    "                                   min_samples_leaf=1, \n",
    "                                   min_samples_split=2, \n",
    "                                   n_estimators=200, \n",
    "                                   n_jobs=-1,\n",
    "                                   random_state=36))\n",
    "])\n",
    "\n",
    "# Applying SMOTE for oversampling\n",
    "oversample = SMOTE(random_state=36)\n",
    "X_resampled, y_resampled = oversample.fit_resample(X, y)\n",
    "\n",
    "# Splitting the dataset\n",
    "X_train, X_test, y_train, y_test = train_test_split(X_resampled, y_resampled, test_size=0.3, random_state=36)\n",
    "\n",
    "# Fitting the pipeline\n",
    "pipeline.fit(X_train, y_train)\n",
    "\n",
    "# Predicting probabilities to adjust the decision threshold\n",
    "y_pred_proba = pipeline.predict_proba(X_test)[:, 1]\n",
    "\n",
    "# Adjusting the threshold (lower threshold increases sensitivity to positives)\n",
    "threshold = 0.1\n",
    "y_pred_thres = (y_pred_proba >= threshold).astype(int)\n",
    "\n",
    "# Plotting ROC curves\n",
    "plt.figure(figsize=(14, 6))\n",
    "\n",
    "# ROC curve without threshold adjustment\n",
    "fpr, tpr, _ = roc_curve(y_test, y_pred_proba)\n",
    "roc_auc = auc(fpr, tpr)\n",
    "plt.subplot(1, 2, 1)\n",
    "plt.plot(fpr, tpr, color='blue', lw=2, label=f'ROC curve (area = {roc_auc:.2f})')\n",
    "plt.plot([0, 1], [0, 1], color='gray', lw=2, linestyle='--')\n",
    "plt.xlim([0.0, 1.0])\n",
    "plt.ylim([0.0, 1.05])\n",
    "plt.xlabel('False Positive Rate')\n",
    "plt.ylabel('True Positive Rate')\n",
    "plt.title('ROC Curve (Original Threshold)')\n",
    "plt.legend(loc=\"lower right\")\n",
    "\n",
    "# ROC curve with threshold adjustment\n",
    "fpr_thres, tpr_thres, _ = roc_curve(y_test, y_pred_thres)\n",
    "roc_auc_thres = auc(fpr_thres, tpr_thres)\n",
    "plt.subplot(1, 2, 2)\n",
    "plt.plot(fpr_thres, tpr_thres, color='green', lw=2, label=f'ROC curve (area = {roc_auc_thres:.2f})')\n",
    "plt.plot([0, 1], [0, 1], color='gray', lw=2, linestyle='--')\n",
    "plt.xlim([0.0, 1.0])\n",
    "plt.ylim([0.0, 1.05])\n",
    "plt.xlabel('False Positive Rate')\n",
    "plt.ylabel('True Positive Rate')\n",
    "plt.title('ROC Curve (Adjusted Threshold)')\n",
    "plt.legend(loc=\"lower right\")\n",
    "\n",
    "plt.tight_layout()\n",
    "plt.show()\n",
    "\n",
    "# Plotting confusion matrices\n",
    "plt.figure(figsize=(14, 6))\n",
    "\n",
    "# Confusion matrix without threshold adjustment\n",
    "plt.subplot(1, 2, 1)\n",
    "sns.heatmap(confusion_matrix(y_test, pipeline.predict(X_test)), annot=True, fmt=\"d\", cmap=\"Blues\", cbar=False)\n",
    "plt.title('Confusion Matrix (Original Threshold)')\n",
    "plt.xlabel('Predicted')\n",
    "plt.ylabel('True')\n",
    "\n",
    "# Confusion matrix with threshold adjustment\n",
    "plt.subplot(1, 2, 2)\n",
    "sns.heatmap(confusion_matrix(y_test, y_pred_thres), annot=True, fmt=\"d\", cmap=\"Greens\", cbar=False)\n",
    "plt.title('Confusion Matrix (Adjusted Threshold)')\n",
    "plt.xlabel('Predicted')\n",
    "plt.ylabel('True')\n",
    "\n",
    "plt.tight_layout()\n",
    "plt.show()\n"
   ]
  },
  {
   "cell_type": "markdown",
   "metadata": {},
   "source": [
    "Lets get those feature importance"
   ]
  },
  {
   "cell_type": "code",
   "execution_count": 125,
   "metadata": {},
   "outputs": [
    {
     "name": "stdout",
     "output_type": "stream",
     "text": [
      "                   Feature  Importance\n",
      "9             BMI Category    0.198981\n",
      "1           Sleep Duration    0.140376\n",
      "3  Physical Activity Level    0.137363\n",
      "6                 Systolic    0.106986\n",
      "7                Diastolic    0.092348\n",
      "5              Daily Steps    0.086776\n",
      "2         Quality of Sleep    0.078387\n",
      "0                      Age    0.075668\n",
      "4             Stress Level    0.065221\n",
      "8                   Gender    0.017893\n"
     ]
    },
    {
     "data": {
      "image/png": "[encoded data removed]",
      "text/plain": [
       "<Figure size 1600x800 with 1 Axes>"
      ]
     },
     "metadata": {},
     "output_type": "display_data"
    }
   ],
   "source": [
    "# Extracting the feature importances from the model\n",
    "feature_importances = pipeline.named_steps['model'].feature_importances_\n",
    "\n",
    "# Creating a DataFrame to display the feature importances\n",
    "importance_df = pd.DataFrame({\n",
    "    'Feature': numeric_features,\n",
    "    'Importance': feature_importances\n",
    "})\n",
    "\n",
    "# Sorting the features by importance\n",
    "importance_df = importance_df.sort_values(by='Importance', ascending=False)\n",
    "\n",
    "# Displaying the feature importances\n",
    "print(importance_df)\n",
    "\n",
    "# Plotting the feature importances\n",
    "plt.figure(figsize=(16, 8))\n",
    "sns.barplot(x='Importance', y='Feature', data=importance_df, palette='Blues_r')\n",
    "plt.title('Feature Importance', fontsize=16, color='white')\n",
    "plt.xlabel('')\n",
    "plt.ylabel('Feaatures')\n",
    "plt.yticks(fontsize=14, color='white', rotation=45, ha='right')\n",
    "plt.xticks(fontsize=14, color='white')\n",
    "plt.title('Feature Importances')\n",
    "plt.savefig('feature_importances.png', transparent=True)\n",
    "plt.show()\n"
   ]
  },
  {
   "cell_type": "markdown",
   "metadata": {},
   "source": [
    "This is THE FINAL PIPELINE!!"
   ]
  },
  {
   "cell_type": "code",
   "execution_count": 126,
   "metadata": {},
   "outputs": [
    {
     "name": "stdout",
     "output_type": "stream",
     "text": [
      "Classification Report:\n",
      "              precision    recall  f1-score   support\n",
      "\n",
      "           0       0.97      0.85      0.90        98\n",
      "           1       0.84      0.96      0.90        81\n",
      "\n",
      "    accuracy                           0.90       179\n",
      "   macro avg       0.90      0.90      0.90       179\n",
      "weighted avg       0.91      0.90      0.90       179\n",
      "\n"
     ]
    },
    {
     "data": {
      "image/png": "[encoded data removed]",
      "text/plain": [
       "<Figure size 1400x600 with 1 Axes>"
      ]
     },
     "metadata": {},
     "output_type": "display_data"
    },
    {
     "data": {
      "image/png": "[encoded data removed]",
      "text/plain": [
       "<Figure size 700x600 with 1 Axes>"
      ]
     },
     "metadata": {},
     "output_type": "display_data"
    }
   ],
   "source": [
    "# Additional preprocessing steps\n",
    "label_encoder = LabelEncoder()\n",
    "for column in ['Gender', 'BMI Category']:\n",
    "    df[column] = label_encoder.fit_transform(df[column])\n",
    "\n",
    "# Defining the features and target variable\n",
    "numeric_features = ['Age', 'Sleep Duration', 'Quality of Sleep', 'Physical Activity Level', \n",
    "                    'Stress Level', 'Daily Steps', 'Systolic', 'Diastolic', 'BMI Category']\n",
    "X = df[numeric_features]\n",
    "y = df['insomnia_binary']\n",
    "\n",
    "# Creating the pipeline with scaler, PCA, and model\n",
    "pipeline = Pipeline(steps=[\n",
    "    ('scaler', StandardScaler()),\n",
    "    ('pca', PCA(n_components=3)),\n",
    "    ('model', ExtraTreesClassifier(bootstrap=False, \n",
    "                                   max_depth=None, \n",
    "                                   max_features='sqrt', \n",
    "                                   min_samples_leaf=1, \n",
    "                                   min_samples_split=2, \n",
    "                                   n_estimators=200, \n",
    "                                   n_jobs=-1,\n",
    "                                   random_state=36))\n",
    "])\n",
    "\n",
    "# Applying SMOTE for oversampling\n",
    "oversample = SMOTE(random_state=36)\n",
    "X_resampled, y_resampled = oversample.fit_resample(X, y)\n",
    "\n",
    "# Splitting the dataset\n",
    "X_train, X_test, y_train, y_test = train_test_split(X_resampled, y_resampled, test_size=0.3, random_state=36)\n",
    "\n",
    "# Fitting the pipeline\n",
    "pipeline.fit(X_train, y_train)\n",
    "\n",
    "# Predicting probabilities to adjust the decision threshold\n",
    "y_pred_proba = pipeline.predict_proba(X_test)[:, 1]\n",
    "\n",
    "# Adjusting the threshold (lower threshold increases sensitivity to positives)\n",
    "threshold = 0.1\n",
    "y_pred_thres = (y_pred_proba >= threshold).astype(int)\n",
    "\n",
    "report = classification_report(y_test, y_pred_thres)\n",
    "print(\"Classification Report:\")\n",
    "print(report)\n",
    "\n",
    "# Plotting ROC curve with threshold adjustment\n",
    "plt.figure(figsize=(14, 6))\n",
    "\n",
    "# ROC curve with threshold adjustment\n",
    "fpr_thres, tpr_thres, _ = roc_curve(y_test, y_pred_proba)\n",
    "roc_auc_thres = auc(fpr_thres, tpr_thres)\n",
    "plt.subplot(1, 2, 1)\n",
    "plt.plot(fpr_thres, tpr_thres, color='b', lw=2, label=f'ROC curve (area = {roc_auc_thres:.2f})')\n",
    "plt.plot([0, 1], [0, 1], color='gray', lw=2, linestyle='--')\n",
    "plt.xlim([0.0, 1.0])\n",
    "plt.ylim([0.0, 1.05])\n",
    "plt.xlabel('False Positive Rate')\n",
    "plt.ylabel('True Positive Rate')\n",
    "plt.title('ROC Curve (Adjusted Threshold)')\n",
    "plt.legend(loc=\"lower right\")\n",
    "\n",
    "plt.tight_layout()\n",
    "plt.show()\n",
    "\n",
    "# Plotting confusion matrix with threshold adjustment\n",
    "plt.figure(figsize=(7, 6))\n",
    "\n",
    "# Confusion matrix with threshold adjustment\n",
    "sns.heatmap(confusion_matrix(y_test, y_pred_thres), annot=True, fmt=\"d\", cmap=\"Blues\", cbar=False)\n",
    "plt.title('Confusion Matrix', color='white')\n",
    "plt.xlabel('Predicted', color='white')\n",
    "plt.ylabel('True', color='white')\n",
    "plt.yticks(fontsize=14, color='white')\n",
    "plt.xticks(fontsize=14, color='white')\n",
    "plt.savefig('Confusion_Matrix.png', transparent=True)\n",
    "plt.tight_layout()\n",
    "plt.show()\n"
   ]
  },
  {
   "cell_type": "markdown",
   "metadata": {},
   "source": [
    "# Summery"
   ]
  },
  {
   "cell_type": "markdown",
   "metadata": {},
   "source": [
    "My model creation has many steps in the process so lets look at each one step by step\n",
    "\n",
    "#### Step 1: Cleaning and Preprocessing\n",
    "#### Step 2: Shotgun Method\n",
    "#### Step 3: GridSearch\n",
    "#### Step 4: Building the Pipeline\n",
    "#### Step 5: Finalizing the Pipeline"
   ]
  },
  {
   "cell_type": "markdown",
   "metadata": {},
   "source": [
    "## Step 1: Cleaning and Preprocessing\n",
    "\n",
    "Data cleaning and preprocessing, in this stage, its all about getting the dataset ready to be tested on. There were multiple columns that in their raw form are simply unable to be interpretted by a machine learning model. This step is designed to make each and every column in my dataset legible for my model. "
   ]
  },
  {
   "cell_type": "markdown",
   "metadata": {},
   "source": [
    "## Step 2: Shotgun Method\n",
    "\n",
    "The shotgun method is designed to get a preliminary idea of which models are best for our dataset by testing a bunch of different models. For this dataset, I tested 8 different model. I tested the following\n",
    "- Logistic Regressor\n",
    "- Random Forest Classsifier\n",
    "- Gradient Boosting Classifier\n",
    "- AdaBoosting Classifier\n",
    "- Bagging Classifier\n",
    "- KNeighbors Classifier\n",
    "- Decision Tree Classifier\n",
    "- Extra Trees Classifier\n",
    "\n",
    "Out of these 8, I got relatively similar scores for 3 of the models that being Logistic Regressor, Bagging Classifier and Extra Trees Classifier which are all included in the next step"
   ]
  },
  {
   "cell_type": "markdown",
   "metadata": {},
   "source": [
    "## Step 3: GridSearch\n",
    "\n",
    "This step was designed to get a better idea of which model performed the best. Unlike the shotgun method, this step included better reports on the models such as classification reports and confusion matricies. Also new in this step was the implementation of SMOTE, to balance out the classes being tested upon, and scaling, in order to create a more even weighting across the features and lastly hyperparameter grids earches, these gridsearches go through thousadns of possible parameter combinations and pick out the best performing combination for the scoring metric given. Because I am extra, I decided to do 3 different scoring metric for each of the models. A metric based on overall accuracy, precision and recall.\n",
    "\n",
    "To me, recall was the most important metric. If i was able to maximize recall without jepardizing the overall accuracy of my model then I would consider that a job well done as that would people that very few patients with insomnia would go undiagnosed. The easy way to do that is to say that everyone has insomnia but that would result in a severe decrease in accuracy. So my goal from here was to find the best tradeoff between accuracy and recall"
   ]
  },
  {
   "cell_type": "markdown",
   "metadata": {},
   "source": [
    "## Step 4: Building the Pipeline\n",
    "During the GridSearch Step, I would that Extra Trees Classifier had the best scores when predicting so that is what i am going to use for the remainder of my model. \n",
    "\n",
    "In this step I took what I found the be the top Extra Trees Classifier paramaters of my notebook thus far and added all the preprocessing method Ive done so far in combination with an addition of PCA (dimensionality reduction) and the addition of a threshold reducer. The idea with both is that I can make it a little bit easier for my model to correctly predict whether a patient has insomnia or not. \n",
    "\n",
    "After this step was complete I was relatively happy with my results andfelt confident finalizing my pipeline with everything in one."
   ]
  },
  {
   "cell_type": "markdown",
   "metadata": {},
   "source": [
    "## Step 5: Finalizing the Pipeline\n",
    "\n",
    "This was the most straightforward step of teh entire model buidling procress. In this step, I simply copied everything that I found to be an improvement for my model and combined it into a single pipeline. I would consider that fianl pipeline to be my finalized model."
   ]
  },
  {
   "cell_type": "markdown",
   "metadata": {},
   "source": [
    "## Conclusion\n",
    "\n",
    "I think this model still has plenty of room for improvement, ideally I would love to see the recall get to 100% without having the accuracy getting below 80% but I am not sure how feasable that is. While I dont know how applicable my model is in the real world I would love to further study how doctors and other medical professionals go about diagnosing diseases and disorders. "
   ]
  },
  {
   "cell_type": "code",
   "execution_count": 127,
   "metadata": {},
   "outputs": [],
   "source": [
    "import nbformat\n",
    "\n",
    "def generate_toc(notebook_path):\n",
    "    with open(notebook_path) as f:\n",
    "        nb = nbformat.read(f, as_version=4)\n",
    "    \n",
    "    toc = []\n",
    "    for cell in nb.cells:\n",
    "        if cell.cell_type == 'markdown':\n",
    "            lines = cell.source.split('\\n')\n",
    "            for line in lines:\n",
    "                if line.startswith('#'):\n",
    "                    header_level = line.count('#')\n",
    "                    header_text = line.replace('#', '').strip()\n",
    "                    toc.append((header_level, header_text))\n",
    "    \n",
    "    toc_md = ['## Table of Contents']\n",
    "    for level, text in toc:\n",
    "        toc_md.append(f\"{'    ' * (level - 1)}- [{text}](#{text.replace(' ', '-')})\")\n",
    "    \n",
    "    return '\\n'.join(toc_md)\n",
    "\n",
    "notebook_path = 'Insomnia Model.ipynb'\n",
    "toc_md = generate_toc(notebook_path)\n",
    "\n",
    "# Print the generated TOC\n",
    "# print(toc_md)"
   ]
  },
  {
   "cell_type": "code",
   "execution_count": null,
   "metadata": {},
   "outputs": [],
   "source": []
  }
 ],
 "metadata": {
  "kernelspec": {
   "display_name": "dsenv",
   "language": "python",
   "name": "python3"
  },
  "language_info": {
   "codemirror_mode": {
    "name": "ipython",
    "version": 3
   },
   "file_extension": ".py",
   "mimetype": "text/x-python",
   "name": "python",
   "nbconvert_exporter": "python",
   "pygments_lexer": "ipython3",
   "version": "3.10.13"
  }
 },
 "nbformat": 4,
 "nbformat_minor": 2
}
